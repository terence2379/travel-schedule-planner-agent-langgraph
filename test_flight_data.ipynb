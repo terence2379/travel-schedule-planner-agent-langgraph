{
 "cells": [
  {
   "cell_type": "code",
   "execution_count": 21,
   "id": "9a0ab84c",
   "metadata": {},
   "outputs": [],
   "source": [
    "import os \n",
    "import json"
   ]
  },
  {
   "cell_type": "code",
   "execution_count": null,
   "id": "77b02363",
   "metadata": {},
   "outputs": [],
   "source": [
    "from langchain_deepseek import ChatDeepSeek\n",
    "from langchain_core.tools import tool\n",
    "from langgraph.prebuilt import create_react_agent\n",
    "\n",
    "from langchain_core.messages import HumanMessage, BaseMessage, SystemMessage\n",
    "from langgraph.graph.message import add_messages\n",
    "\n",
    "from typing import TypedDict, Annotated, List, Dict\n",
    "from typing_extensions import TypedDict"
   ]
  },
  {
   "cell_type": "code",
   "execution_count": 23,
   "id": "f75297e9",
   "metadata": {},
   "outputs": [],
   "source": [
    "from src.utils_trans import search_flight_details"
   ]
  },
  {
   "cell_type": "code",
   "execution_count": 24,
   "id": "420346ff",
   "metadata": {},
   "outputs": [],
   "source": [
    "llm = ChatDeepSeek(model=\"deepseek-chat\",\n",
    "                   api_key=os.getenv(\"DEEPSEEK_API_KEY\"))"
   ]
  },
  {
   "cell_type": "code",
   "execution_count": null,
   "id": "6a2abb71",
   "metadata": {},
   "outputs": [],
   "source": [
    "class State(TypedDict):\n",
    "    messages: Annotated[List, add_messages]\n",
    "    trip_start_date: str\n",
    "    trip_end_date: str\n",
    "    traveler_preferences: Dict\n",
    "    start_flight: str\n",
    "    return_flight: str\n",
    "    \n",
    "\n",
    "    flight_info: Dict\n",
    "    total_schedule: Dict \n",
    "    report_markdown: str"
   ]
  },
  {
   "cell_type": "code",
   "execution_count": 26,
   "id": "009d67ad",
   "metadata": {},
   "outputs": [],
   "source": [
    "def get_system_prompt(suffix: str) -> str:\n",
    "    return (\n",
    "        \"You are a helpful AI assistant, collaborating with other assistants.\"\n",
    "        \" Use the provided tools to progress towards answering the question.\"\n",
    "        \" Always format your final answer as a JSON string.\"\n",
    "        f\"\\n{suffix}\"\n",
    "    )"
   ]
  },
  {
   "cell_type": "code",
   "execution_count": 27,
   "id": "1634845c",
   "metadata": {},
   "outputs": [],
   "source": [
    "@tool\n",
    "def get_flight_data(start_flight: str, return_flight: str) -> str:\n",
    "    \"\"\"\n",
    "    Retrieve flight details for given flight numbers.\n",
    "    \"\"\"\n",
    "    result = search_flight_details(start_flight, return_flight)\n",
    "    json.dumps(result)\n",
    "    return json.dumps(result)"
   ]
  },
  {
   "cell_type": "code",
   "execution_count": 28,
   "id": "d258f96a",
   "metadata": {},
   "outputs": [],
   "source": [
    "flight_data_agent = create_react_agent(\n",
    "    llm,\n",
    "    tools=[get_flight_data],\n",
    "    prompt=get_system_prompt(\n",
    "        \"You are a travel planning assistant specializing in retrieving round-trip flight information. \"\n",
    "        \"Use the get_flight_data tool with provided flight numbers and return its output directly as a JSON string. \"\n",
    "        \"Do NOT include any explanatory text, comments, or non-JSON content. \"\n",
    "        \"Return an empty JSON object {} if no flight data is available or if the tool fails.\"\n",
    "    ),\n",
    ")"
   ]
  },
  {
   "cell_type": "code",
   "execution_count": 29,
   "id": "bebbabcb",
   "metadata": {},
   "outputs": [],
   "source": [
    "def flight_data_node(state: State) -> State:\n",
    "    start_flight = state['start_flight']\n",
    "    return_flight = state['return_flight']\n",
    "    \n",
    "    # Run agent\n",
    "    agent_input = {\"messages\": state['messages'] + [HumanMessage(content=f\"Get data for {start_flight} and {return_flight}\")]}\n",
    "    agent_output = flight_data_agent.invoke(agent_input)\n",
    "\n",
    "    # Parse safely\n",
    "\n",
    "    final_content = agent_output['messages'][-1].content\n",
    "    flight_info = json.loads(final_content)\n",
    "\n",
    "    \n",
    "    # Update state with extracted dates (adjust keys based on search_flight_details)\n",
    "    state['flight_info'] = flight_info\n",
    "    state['messages'].append(SystemMessage(content=f\"Flight info updated: {flight_info}\"))\n",
    "    return state"
   ]
  },
  {
   "cell_type": "code",
   "execution_count": 30,
   "id": "de773731",
   "metadata": {},
   "outputs": [
    {
     "name": "stdout",
     "output_type": "stream",
     "text": [
      "flight_info:\n",
      "{\n",
      "  \"start_flight\": {\n",
      "    \"departure_airport\": \"Hong Kong International Airport\",\n",
      "    \"arrival_airport\": \"Tokyo Narita International Airport\",\n",
      "    \"departure_region\": \"Hong Kong\",\n",
      "    \"arrival_region\": \"Tokyo\",\n",
      "    \"departure_time\": \"10:46\",\n",
      "    \"estimated_arrival_time\": \"14:55\"\n",
      "  },\n",
      "  \"return_flight\": {\n",
      "    \"departure_airport\": \"Tokyo Narita International Airport\",\n",
      "    \"arrival_airport\": \"Hong Kong International Airport\",\n",
      "    \"departure_region\": \"Tokyo\",\n",
      "    \"arrival_region\": \"Hong Kong\",\n",
      "    \"departure_time\": \"16:49\",\n",
      "    \"estimated_arrival_time\": \"21:03\"\n",
      "  }\n",
      "}\n",
      "OK: live flight_data_node test passed\n"
     ]
    }
   ],
   "source": [
    "# Live test calling the real agent + tool (no stubs)\n",
    "import os, json\n",
    "\n",
    "# Ensure API key is present; skip gracefully if missing\n",
    "if not os.getenv(\"DEEPSEEK_API_KEY\"):\n",
    "    print(\"Skipping live test: DEEPSEEK_API_KEY is not set.\")\n",
    "else:\n",
    "    # Re-create the real agent in case a previous cell overrode it with a stub\n",
    "    flight_data_agent = create_react_agent(\n",
    "        llm,\n",
    "        tools=[get_flight_data],\n",
    "        prompt=get_system_prompt(\n",
    "            \"You are a travel planning assistant specializing in retrieving round-trip flight information. \"\n",
    "            \"Use the get_flight_data tool with provided flight numbers and return its output directly as a JSON string. \"\n",
    "            \"Do NOT include any explanatory text, comments, or non-JSON content. \"\n",
    "            \"Return an empty JSON object {} if no flight data is available or if the tool fails.\"\n",
    "        ),\n",
    "    )\n",
    "\n",
    "    # You can override these via environment variables if needed\n",
    "    start_flight = os.getenv(\"TEST_START_FLIGHT\", \"UO870\")\n",
    "    return_flight = os.getenv(\"TEST_RETURN_FLIGHT\", \"UO871\")\n",
    "\n",
    "    # Minimal state for the node\n",
    "    live_state = {\n",
    "        \"start_flight\": start_flight,\n",
    "        \"return_flight\": return_flight,\n",
    "        \"messages\": [],\n",
    "    }\n",
    "\n",
    "    try:\n",
    "        live_updated = flight_data_node(live_state)\n",
    "        print(\"flight_info:\")\n",
    "        print(json.dumps(live_updated.get(\"flight_info\", {}), indent=2))\n",
    "\n",
    "        # Minimal sanity checks\n",
    "        assert isinstance(live_updated.get(\"flight_info\"), dict)\n",
    "        # If tool succeeded, expect keys produced by search_flight_details\n",
    "        if live_updated[\"flight_info\"]:\n",
    "            assert \"start_flight\" in live_updated[\"flight_info\"], \"Missing start_flight in flight_info\"\n",
    "            assert \"return_flight\" in live_updated[\"flight_info\"], \"Missing return_flight in flight_info\"\n",
    "            for leg_key in (\"start_flight\", \"return_flight\"):\n",
    "                leg = live_updated[\"flight_info\"][leg_key]\n",
    "                for k in (\"departure_airport\", \"arrival_airport\", \"departure_time\", \"estimated_arrival_time\"):\n",
    "                    assert k in leg, f\"Missing {k} in {leg_key}\"\n",
    "        print(\"OK: live flight_data_node test passed\")\n",
    "    except Exception as e:\n",
    "        print(\"Live test failed:\", repr(e))\n",
    "        raise\n"
   ]
  },
  {
   "cell_type": "code",
   "execution_count": null,
   "id": "b57cdf21",
   "metadata": {},
   "outputs": [],
   "source": []
  }
 ],
 "metadata": {
  "kernelspec": {
   "display_name": ".venv",
   "language": "python",
   "name": "python3"
  },
  "language_info": {
   "codemirror_mode": {
    "name": "ipython",
    "version": 3
   },
   "file_extension": ".py",
   "mimetype": "text/x-python",
   "name": "python",
   "nbconvert_exporter": "python",
   "pygments_lexer": "ipython3",
   "version": "3.13.7"
  }
 },
 "nbformat": 4,
 "nbformat_minor": 5
}
