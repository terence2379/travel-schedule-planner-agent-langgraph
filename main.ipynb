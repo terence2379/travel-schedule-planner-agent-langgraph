{
 "cells": [
  {
   "cell_type": "code",
   "execution_count": 52,
   "id": "83909ef6",
   "metadata": {},
   "outputs": [
    {
     "name": "stdout",
     "output_type": "stream",
     "text": [
      "The autoreload extension is already loaded. To reload it, use:\n",
      "  %reload_ext autoreload\n"
     ]
    }
   ],
   "source": [
    "%load_ext autoreload\n",
    "%autoreload 2"
   ]
  },
  {
   "cell_type": "code",
   "execution_count": 53,
   "id": "092b23df",
   "metadata": {},
   "outputs": [
    {
     "data": {
      "text/plain": [
       "True"
      ]
     },
     "execution_count": 53,
     "metadata": {},
     "output_type": "execute_result"
    }
   ],
   "source": [
    "import os\n",
    "import json\n",
    "import dotenv\n",
    "\n",
    "dotenv.load_dotenv()"
   ]
  },
  {
   "cell_type": "code",
   "execution_count": 54,
   "id": "2d6df5e2",
   "metadata": {},
   "outputs": [],
   "source": [
    "from typing import TypedDict, Annotated, List, Dict, Literal\n",
    "from typing_extensions import TypedDict\n",
    "from IPython.display import display, Markdown, Image\n",
    "import operator"
   ]
  },
  {
   "cell_type": "code",
   "execution_count": 55,
   "id": "d0b6f713",
   "metadata": {},
   "outputs": [],
   "source": [
    "from langchain_deepseek import ChatDeepSeek\n",
    "from langchain_core.tools import tool\n",
    "from langgraph.prebuilt import create_react_agent"
   ]
  },
  {
   "cell_type": "code",
   "execution_count": 56,
   "id": "e997503f",
   "metadata": {},
   "outputs": [],
   "source": [
    "from langgraph.graph import START, END, StateGraph\n",
    "from langgraph.types import Command, Send\n",
    "from langchain_core.messages import HumanMessage, BaseMessage, SystemMessage\n",
    "from langchain_experimental.utilities import PythonREPL\n",
    "from langgraph.graph.message import add_messages"
   ]
  },
  {
   "cell_type": "code",
   "execution_count": 57,
   "id": "6962eed6",
   "metadata": {},
   "outputs": [],
   "source": [
    "from src.utils_trans import search_flight_details"
   ]
  },
  {
   "cell_type": "code",
   "execution_count": 58,
   "id": "b09b3981",
   "metadata": {},
   "outputs": [],
   "source": [
    "def get_system_prompt_tool(suffix: str) -> str:\n",
    "    return (\n",
    "        \"You are a helpful AI assistant, collaborating with other assistants.\"\n",
    "        \" Use the provided tools to progress towards answering the question.\"\n",
    "        \" Always format your final answer as a JSON string.\"\n",
    "        f\"\\n{suffix}\"\n",
    "    )"
   ]
  },
  {
   "cell_type": "code",
   "execution_count": null,
   "id": "6c84849d",
   "metadata": {},
   "outputs": [],
   "source": []
  },
  {
   "cell_type": "code",
   "execution_count": 59,
   "id": "2b6725a5",
   "metadata": {},
   "outputs": [],
   "source": [
    "def get_system_prompt(suffix: str) -> str:\n",
    "    return (\n",
    "        \"You are a helpful AI assistant, collaborating with other assistants.\"\n",
    "        \" Always format your final answer as a JSON string.\"\n",
    "        f\"\\n{suffix}\"\n",
    "    )"
   ]
  },
  {
   "cell_type": "code",
   "execution_count": 60,
   "id": "58e005a3",
   "metadata": {},
   "outputs": [],
   "source": [
    "llm = ChatDeepSeek(model=\"deepseek-chat\",\n",
    "                   api_key=os.getenv(\"DEEPSEEK_API_KEY\"))"
   ]
  },
  {
   "cell_type": "code",
   "execution_count": 61,
   "id": "bc361703",
   "metadata": {},
   "outputs": [],
   "source": [
    "class State(TypedDict):\n",
    "    messages: Annotated[List, add_messages]\n",
    "    trip_start_date: str\n",
    "    trip_end_date: str\n",
    "    traveler_preferences: Dict\n",
    "    start_flight: str\n",
    "    return_flight: str\n",
    "    \n",
    "\n",
    "    flight_info: Dict\n",
    "    total_schedule: Dict \n",
    "    report_markdown: str"
   ]
  },
  {
   "cell_type": "code",
   "execution_count": null,
   "id": "f7b7ffe4",
   "metadata": {},
   "outputs": [],
   "source": []
  },
  {
   "cell_type": "code",
   "execution_count": 62,
   "id": "d5e51009",
   "metadata": {},
   "outputs": [],
   "source": [
    "@tool\n",
    "def get_flight_data(start_flight: str, return_flight: str) -> str:\n",
    "    \"\"\"\n",
    "    Retrieve flight details for given flight numbers.\n",
    "    \"\"\"\n",
    "    result = search_flight_details(start_flight, return_flight)\n",
    "    json.dumps(result)\n",
    "    return json.dumps(result)"
   ]
  },
  {
   "cell_type": "code",
   "execution_count": 63,
   "id": "4b1a8bbc",
   "metadata": {},
   "outputs": [],
   "source": [
    "flight_data_agent = create_react_agent(\n",
    "    llm,\n",
    "    tools=[get_flight_data],\n",
    "    prompt=get_system_prompt_tool(\n",
    "        \"You are a travel planning assistant specializing in retrieving round-trip flight information. \"\n",
    "        \"Use the get_flight_data tool with provided flight numbers and return its output directly as a JSON string. \"\n",
    "        \"Do NOT include any explanatory text, comments, or non-JSON content. \"\n",
    "        \"Return an empty JSON object {} if no flight data is available or if the tool fails.\"\n",
    "    ),\n",
    ")"
   ]
  },
  {
   "cell_type": "markdown",
   "id": "223e8ed7",
   "metadata": {},
   "source": []
  },
  {
   "cell_type": "markdown",
   "id": "1cdc9dbd",
   "metadata": {},
   "source": [
    "### Create Graph\n"
   ]
  },
  {
   "cell_type": "code",
   "execution_count": 64,
   "id": "bf63c681",
   "metadata": {},
   "outputs": [],
   "source": [
    "def flight_data_node(state: State) -> State:\n",
    "    start_flight = state['start_flight']\n",
    "    return_flight = state['return_flight']\n",
    "    \n",
    "    # Run agent\n",
    "    agent_input = {\"messages\": state['messages'] + [HumanMessage(content=f\"Get data for {start_flight} and {return_flight}\")]}\n",
    "    agent_output = flight_data_agent.invoke(agent_input)\n",
    "\n",
    "    # Parse safely\n",
    "\n",
    "    final_content = agent_output['messages'][-1].content\n",
    "    flight_info = json.loads(final_content)\n",
    "\n",
    "    \n",
    "    # Update state with extracted dates (adjust keys based on search_flight_details)\n",
    "    state['flight_info'] = flight_info\n",
    "    state['messages'].append(SystemMessage(content=f\"Flight info updated: {flight_info}\"))\n",
    "    return state"
   ]
  },
  {
   "cell_type": "code",
   "execution_count": 65,
   "id": "9ebf184f",
   "metadata": {},
   "outputs": [],
   "source": [
    "def daily_schedule_node(state: State) -> State:\n",
    "    trip_start = state.get(\"trip_start_date\")\n",
    "    trip_end = state.get(\"trip_end_date\")\n",
    "    preferences = state.get(\"traveler_preferences\", {})\n",
    "    flight_info = state.get(\"flight_info\", {})\n",
    "    city = state.get(\"city\", \"\")  # Added to ensure city is included\n",
    "\n",
    "    user_prompt = json.dumps(\n",
    "        {\n",
    "            \"instructions\": (\n",
    "                \"Generate a diverse activity pool for the specified city and travel dates. \"\n",
    "                \"Include activities of type 'activity' (covering food, culture, and light hiking), 'meal', 'transit', and 'rest'. \"\n",
    "                \"Food activities should include local restaurants, street food, or cooking classes. \"\n",
    "                \"Culture activities should include museums, historical sites, or festivals. \"\n",
    "                \"Light hiking should include scenic trails or parks suitable for light outdoor activity. \"\n",
    "                \"Tailor activities to the city, travel dates (considering seasonal factors), and preferences (e.g., preferred activity types or time constraints). \"\n",
    "                \"Schedule meals within lunch (12:00-13:00) and dinner (18:00-19:00) windows. \"\n",
    "                \"Account for average transit time (20 minutes) between activities. \"\n",
    "                \"If preferences are missing, include a balanced mix of food, culture, and light hiking. \"\n",
    "                \"For multi-city trips, include transitions between cities based on flight_info. \"\n",
    "                \"Return a JSON object matching the required_output_format with 'days', 'transitions', and 'segments'. \"\n",
    "                \"Each day should have a balanced schedule from 09:00 to 20:00, respecting transit and meal times.\"\n",
    "            ),\n",
    "            \"trip\": {\n",
    "                \"city\": city,\n",
    "                \"start_date\": trip_start,\n",
    "                \"end_date\": trip_end,\n",
    "                \"preferences\": preferences,\n",
    "            },\n",
    "            \"flight_info\": flight_info,\n",
    "            \"assumptions\": {\n",
    "                \"default_open\": \"09:00-20:00\",\n",
    "                \"avg_transit_min\": 20,\n",
    "                \"lunch_window\": \"12:00-13:00\",\n",
    "                \"dinner_window\": \"18:00-19:00\",\n",
    "            },\n",
    "            \"required_output_format\": {\n",
    "                \"days\": [\n",
    "                    {\n",
    "                        \"date\": \"YYYY-MM-DD\",\n",
    "                        \"location\": \"City/Area\",\n",
    "                        \"items\": [\n",
    "                            {\n",
    "                                \"type\": \"activity|meal|transit|rest\",\n",
    "                                \"name\": \"string\",\n",
    "                                \"notes\": \"string\",\n",
    "                                \"start_min\": 540,  # Minutes since midnight (e.g., 09:00)\n",
    "                                \"end_min\": 600     # Minutes since midnight (e.g., 10:00)\n",
    "                            }\n",
    "                        ]\n",
    "                    }\n",
    "                ],\n",
    "                \"transitions\": [\n",
    "                    {\"date\": \"YYYY-MM-DD\", \"from\": \"A\", \"to\": \"B\", \"notes\": \"string\"}\n",
    "                ],\n",
    "                \"segments\": [\n",
    "                    {\n",
    "                        \"location\": \"City/Area\",\n",
    "                        \"start_date\": \"YYYY-MM-DD\",\n",
    "                        \"end_date\": \"YYYY-MM-DD\",\n",
    "                        \"days\": 3\n",
    "                    }\n",
    "                ]\n",
    "            }\n",
    "        }\n",
    "    )\n",
    "\n",
    "    system_prompt = get_system_prompt(\n",
    "        \"Return ONLY a JSON object matching required_output_format. Do not include any prose.\"\n",
    "    )\n",
    "\n",
    "    messages = [SystemMessage(content=system_prompt), HumanMessage(content=user_prompt)]\n",
    "    schedule_output = llm.invoke(messages)\n",
    "    schedule_content = getattr(schedule_output, \"content\", None) or schedule_output\n",
    "\n",
    "    try:\n",
    "        activity_pool = json.loads(schedule_content)\n",
    "        state[\"total_schedule\"] = activity_pool\n",
    "        return state\n",
    "    except json.JSONDecodeError:\n",
    "        state[\"total_schedule\"] = {\"days\": [], \"transitions\": [], \"segments\": []}\n",
    "        state[\"messages\"].append(SystemMessage(content=\"Failed to parse activity pool JSON\"))\n",
    "        return state"
   ]
  },
  {
   "cell_type": "code",
   "execution_count": 66,
   "id": "83609c4e",
   "metadata": {},
   "outputs": [],
   "source": [
    "def report_node(state: State) -> State:\n",
    "    total = state.get(\"total_schedule\", {\"days\": [], \"transitions\": [], \"segments\": []})\n",
    "    flight_info = state.get(\"flight_info\", {})\n",
    "    lines = []\n",
    "    lines.append(f\"# Trip Plan: {state['trip_start_date']} to {state['trip_end_date']}\")\n",
    "    lines.append(\"\")\n",
    "    # Overview\n",
    "    lines.append(\"## Overview\")\n",
    "    if total.get(\"segments\"):\n",
    "        lines.append(\"- Segments:\")\n",
    "        for seg in sorted(total.get(\"segments\", []), key=lambda s: s.get(\"start_date\", \"\")):\n",
    "            lines.append(f\"  - {seg.get('location','')}: {seg.get('start_date','')} → {seg.get('end_date','')} ({seg.get('days',0)} days)\")\n",
    "    if total.get(\"transitions\"):\n",
    "        lines.append(\"- Transitions:\")\n",
    "        for t in total.get(\"transitions\", []):\n",
    "            lines.append(f\"  - {t.get('date','')}: {t.get('from','')} → {t.get('to','')} — {t.get('notes','')}\")\n",
    "    if flight_info:\n",
    "        lines.append(\"- Flights:\")\n",
    "        start_f = flight_info.get(\"start\", {})\n",
    "        ret_f = flight_info.get(\"return\", {})\n",
    "        if start_f:\n",
    "            lines.append(f\"  - Outbound {start_f.get('flight_no','')}: {start_f.get('depart','')} → {start_f.get('arrive','')} ({start_f.get('date','')})\")\n",
    "        if ret_f:\n",
    "            lines.append(f\"  - Return {ret_f.get('flight_no','')}: {ret_f.get('depart','')} → {ret_f.get('arrive','')} ({ret_f.get('date','')})\")\n",
    "    lines.append(\"\")\n",
    "\n",
    "    # Daily tables\n",
    "    lines.append(\"## Daily Schedule\")\n",
    "    for day in sorted(total.get(\"days\", []), key=lambda d: d.get(\"date\", \"\")):\n",
    "        lines.append(f\"### {day.get('date', '')} — {day.get('location', '')}\")\n",
    "        lines.append(\"| Time | Type | Name | Notes |\")\n",
    "        lines.append(\"|------|------|------|-------|\")\n",
    "        for item in day.get(\"items\", []):\n",
    "            start = item.get(\"start_min\", 0)\n",
    "            end = item.get(\"end_min\", 0)\n",
    "            def _hm(m):\n",
    "                h = int(m // 60)\n",
    "                mm = int(m % 60)\n",
    "                return f\"{h:02d}:{mm:02d}\"\n",
    "            time_str = f\"{_hm(start)}–{_hm(end)}\" if end else _hm(start)\n",
    "            lines.append(f\"| {time_str} | {item.get('type','activity')} | {item.get('name','')} | {item.get('notes','')} |\")\n",
    "        lines.append(\"\")\n",
    "\n",
    "    state[\"report_markdown\"] = \"\\n\".join(lines)\n",
    "    return state"
   ]
  },
  {
   "cell_type": "code",
   "execution_count": 67,
   "id": "f5f35414",
   "metadata": {},
   "outputs": [],
   "source": [
    "workflow = StateGraph(State)\n",
    "\n",
    "# Nodes\n",
    "workflow.add_node(\"flight_data\", flight_data_node)\n",
    "workflow.add_node(\"daily_schedule\", daily_schedule_node)\n",
    "workflow.add_node(\"report\", report_node)\n",
    "\n",
    "# Edges\n",
    "workflow.add_edge(START, \"flight_data\")\n",
    "workflow.add_edge(\"flight_data\", \"daily_schedule\")\n",
    "workflow.add_edge(\"daily_schedule\", \"report\")\n",
    "workflow.add_edge(\"report\", END)\n",
    "\n",
    "# Entry point\n",
    "workflow.set_entry_point(\"flight_data\")\n",
    "\n",
    "graph = workflow.compile()"
   ]
  },
  {
   "cell_type": "code",
   "execution_count": 68,
   "id": "beaaeb4e",
   "metadata": {},
   "outputs": [
    {
     "name": "stdout",
     "output_type": "stream",
     "text": [
      "---\n",
      "config:\n",
      "  flowchart:\n",
      "    curve: linear\n",
      "---\n",
      "graph TD;\n",
      "\t__start__([<p>__start__</p>]):::first\n",
      "\tflight_data(flight_data)\n",
      "\tdaily_schedule(daily_schedule)\n",
      "\treport(report)\n",
      "\t__end__([<p>__end__</p>]):::last\n",
      "\t__start__ --> flight_data;\n",
      "\tdaily_schedule --> report;\n",
      "\tflight_data --> daily_schedule;\n",
      "\treport --> __end__;\n",
      "\tclassDef default fill:#f2f0ff,line-height:1.2\n",
      "\tclassDef first fill-opacity:0\n",
      "\tclassDef last fill:#bfb6fc\n",
      "\n"
     ]
    }
   ],
   "source": [
    "print(graph.get_graph().draw_mermaid())"
   ]
  },
  {
   "cell_type": "code",
   "execution_count": 69,
   "id": "9b99935b",
   "metadata": {},
   "outputs": [
    {
     "name": "stdout",
     "output_type": "stream",
     "text": [
      "  +-----------+    \n",
      "  | __start__ |    \n",
      "  +-----------+    \n",
      "         *         \n",
      "         *         \n",
      "         *         \n",
      "  +-------------+  \n",
      "  | flight_data |  \n",
      "  +-------------+  \n",
      "         *         \n",
      "         *         \n",
      "         *         \n",
      "+----------------+ \n",
      "| daily_schedule | \n",
      "+----------------+ \n",
      "         *         \n",
      "         *         \n",
      "         *         \n",
      "    +--------+     \n",
      "    | report |     \n",
      "    +--------+     \n",
      "         *         \n",
      "         *         \n",
      "         *         \n",
      "    +---------+    \n",
      "    | __end__ |    \n",
      "    +---------+    \n"
     ]
    }
   ],
   "source": [
    "graph.get_graph().print_ascii()"
   ]
  },
  {
   "cell_type": "markdown",
   "id": "fb06aaa1",
   "metadata": {},
   "source": [
    "### Run Graph"
   ]
  },
  {
   "cell_type": "code",
   "execution_count": 70,
   "id": "a5223226",
   "metadata": {},
   "outputs": [],
   "source": [
    "input_message = HumanMessage(\n",
    "    content=(\n",
    "        \"Plan a 10-day Japan trip arriving Kansai (Osaka). Focus on food, culture, \"\n",
    "        \"light hiking, and efficient transit.\"\n",
    "    )\n",
    ")"
   ]
  },
  {
   "cell_type": "code",
   "execution_count": 71,
   "id": "b1e35ed0",
   "metadata": {},
   "outputs": [],
   "source": [
    "TRIP_START = \"2025-03-10\"\n",
    "TRIP_END = \"2025-03-24\"\n",
    "START_FLIGHT = \"UO870\"\n",
    "RETURN_FLIGHT = \"UO871\"\n",
    "PREFERENCES = {\n",
    "    \"pace\": \"moderate\",\n",
    "    \"interests\": [\"food\", \"culture\", \"light hiking\"],\n",
    "    \"budget\": \"mid\",\n",
    "}\n",
    "\n",
    "#EMAIL_ADDRESS = \"terence2379@gmail.com\""
   ]
  },
  {
   "cell_type": "code",
   "execution_count": 72,
   "metadata": {},
   "outputs": [
    {
     "data": {
      "text/markdown": [
       "# Trip Plan: 2025-03-10 to 2025-03-24\n",
       "\n",
       "## Overview\n",
       "- Flights:\n",
       "\n",
       "## Daily Schedule"
      ],
      "text/plain": [
       "<IPython.core.display.Markdown object>"
      ]
     },
     "metadata": {},
     "output_type": "display_data"
    }
   ],
   "source": [
    "events = graph.stream(\n",
    "    input={\n",
    "        \"messages\": [input_message],\n",
    "        \"trip_start_date\": TRIP_START,\n",
    "        \"trip_end_date\": TRIP_END,\n",
    "        \"start_flight\": START_FLIGHT,\n",
    "        \"return_flight\": RETURN_FLIGHT,\n",
    "        \"traveler_preferences\": PREFERENCES,\n",
    "    },\n",
    "    config={\"recursion_limit\": 50},  # Increased from 30\n",
    "    stream_mode=\"values\",\n",
    ")\n",
    "final_report = None\n",
    "for event in events:\n",
    "    if \"report_markdown\" in event:\n",
    "        final_report = event[\"report_markdown\"]\n",
    "\n",
    "if final_report:\n",
    "    display(Markdown(final_report))\n",
    "else:\n",
    "    print(\"No final report produced. Check inputs or graph configuration.\")"
   ]
  }
 ],
 "metadata": {
  "kernelspec": {
   "display_name": ".venv",
   "language": "python",
   "name": "python3"
  },
  "language_info": {
   "codemirror_mode": {
    "name": "ipython",
    "version": 3
   },
   "file_extension": ".py",
   "mimetype": "text/x-python",
   "name": "python",
   "nbconvert_exporter": "python",
   "pygments_lexer": "ipython3",
   "version": "3.13.7"
  }
 },
 "nbformat": 4,
 "nbformat_minor": 5
}
