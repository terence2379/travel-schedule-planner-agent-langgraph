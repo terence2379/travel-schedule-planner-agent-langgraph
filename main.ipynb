{
 "cells": [
  {
   "cell_type": "code",
   "execution_count": 190,
   "id": "83909ef6",
   "metadata": {},
   "outputs": [
    {
     "name": "stdout",
     "output_type": "stream",
     "text": [
      "The autoreload extension is already loaded. To reload it, use:\n",
      "  %reload_ext autoreload\n"
     ]
    }
   ],
   "source": [
    "%load_ext autoreload\n",
    "%autoreload 2"
   ]
  },
  {
   "cell_type": "code",
   "execution_count": 191,
   "id": "092b23df",
   "metadata": {},
   "outputs": [
    {
     "data": {
      "text/plain": [
       "True"
      ]
     },
     "execution_count": 191,
     "metadata": {},
     "output_type": "execute_result"
    }
   ],
   "source": [
    "import os\n",
    "import json\n",
    "import dotenv\n",
    "\n",
    "dotenv.load_dotenv()"
   ]
  },
  {
   "cell_type": "code",
   "execution_count": 192,
   "id": "2d6df5e2",
   "metadata": {},
   "outputs": [],
   "source": [
    "from typing import TypedDict, Annotated, List, Dict, Literal\n",
    "from typing_extensions import TypedDict\n",
    "from IPython.display import display, Markdown, Image\n",
    "from datetime import datetime\n",
    "import operator"
   ]
  },
  {
   "cell_type": "code",
   "execution_count": 193,
   "id": "d0b6f713",
   "metadata": {},
   "outputs": [],
   "source": [
    "from langchain_deepseek import ChatDeepSeek\n",
    "from langchain_core.tools import tool\n",
    "from langgraph.prebuilt import create_react_agent"
   ]
  },
  {
   "cell_type": "code",
   "execution_count": 194,
   "id": "e997503f",
   "metadata": {},
   "outputs": [],
   "source": [
    "from langgraph.graph import START, END, StateGraph\n",
    "from langgraph.types import Command, Send\n",
    "from langchain_core.messages import HumanMessage, BaseMessage, SystemMessage\n",
    "from langchain_experimental.utilities import PythonREPL\n",
    "from langgraph.graph.message import add_messages"
   ]
  },
  {
   "cell_type": "code",
   "execution_count": 195,
   "id": "6962eed6",
   "metadata": {},
   "outputs": [],
   "source": [
    "from src.utils_trans import search_flight_details"
   ]
  },
  {
   "cell_type": "code",
   "execution_count": 196,
   "id": "b09b3981",
   "metadata": {},
   "outputs": [],
   "source": [
    "def get_system_prompt_tool(suffix: str) -> str:\n",
    "    return (\n",
    "        \"You are a helpful AI assistant, collaborating with other assistants.\"\n",
    "        \" Use the provided tools to progress towards answering the question.\"\n",
    "        \" Always format your final answer as a JSON string.\"\n",
    "        f\"\\n{suffix}\"\n",
    "    )"
   ]
  },
  {
   "cell_type": "code",
   "execution_count": null,
   "id": "6c84849d",
   "metadata": {},
   "outputs": [],
   "source": []
  },
  {
   "cell_type": "code",
   "execution_count": 197,
   "id": "2b6725a5",
   "metadata": {},
   "outputs": [],
   "source": [
    "def get_system_prompt(suffix: str) -> str:\n",
    "    return (\n",
    "        \"You are a helpful AI assistant, collaborating with other assistants.\"\n",
    "        \" Always format your final answer as a JSON string.\"\n",
    "        f\"\\n{suffix}\"\n",
    "    )"
   ]
  },
  {
   "cell_type": "code",
   "execution_count": 198,
   "id": "58e005a3",
   "metadata": {},
   "outputs": [],
   "source": [
    "llm = ChatDeepSeek(model=\"deepseek-chat\",\n",
    "                   api_key=os.getenv(\"DEEPSEEK_API_KEY\"))"
   ]
  },
  {
   "cell_type": "code",
   "execution_count": 199,
   "id": "bc361703",
   "metadata": {},
   "outputs": [],
   "source": [
    "class State(TypedDict):\n",
    "    messages: Annotated[List, add_messages]\n",
    "    trip_start_date: str\n",
    "    trip_end_date: str\n",
    "    traveler_preferences: Dict\n",
    "    start_flight: str\n",
    "    return_flight: str\n",
    "    \n",
    "\n",
    "    flight_info: Dict\n",
    "    total_schedule: Dict \n",
    "    report_markdown: str"
   ]
  },
  {
   "cell_type": "code",
   "execution_count": 200,
   "id": "d5e51009",
   "metadata": {},
   "outputs": [],
   "source": [
    "@tool\n",
    "def get_flight_data(start_flight: str, return_flight: str) -> str:\n",
    "    \"\"\"\n",
    "    Retrieve flight details for given flight numbers.\n",
    "    \"\"\"\n",
    "    result = search_flight_details(start_flight, return_flight)\n",
    "    json.dumps(result)\n",
    "    return json.dumps(result)"
   ]
  },
  {
   "cell_type": "code",
   "execution_count": 201,
   "id": "4b1a8bbc",
   "metadata": {},
   "outputs": [],
   "source": [
    "flight_data_agent = create_react_agent(\n",
    "    llm,\n",
    "    tools=[get_flight_data],\n",
    "    prompt=get_system_prompt_tool(\n",
    "        \"You are a travel planning assistant specializing in retrieving round-trip flight information. \"\n",
    "        \"Use the get_flight_data tool with provided flight numbers and return its output directly as a JSON string. \"\n",
    "        \"Do NOT include any explanatory text, comments, or non-JSON content. \"\n",
    "        \"Return an empty JSON object {} if no flight data is available or if the tool fails.\"\n",
    "    ),\n",
    ")"
   ]
  },
  {
   "cell_type": "markdown",
   "id": "223e8ed7",
   "metadata": {},
   "source": []
  },
  {
   "cell_type": "markdown",
   "id": "1cdc9dbd",
   "metadata": {},
   "source": [
    "### Create Graph\n"
   ]
  },
  {
   "cell_type": "code",
   "execution_count": 202,
   "id": "36d99138",
   "metadata": {},
   "outputs": [],
   "source": [
    "# Helper: robustly extract JSON object from model output\n",
    "import re\n",
    "\n",
    "def _extract_json_object(text: str):\n",
    "    if isinstance(text, dict):\n",
    "        return text\n",
    "    if not isinstance(text, str):\n",
    "        raise json.JSONDecodeError(\"Non-string content\", str(text), 0)\n",
    "    # Strip code fences if present\n",
    "    fenced = re.search(r\"```(?:json)?\\s*([\\s\\S]*?)```\", text, re.IGNORECASE)\n",
    "    if fenced:\n",
    "        candidate = fenced.group(1).strip()\n",
    "        try:\n",
    "            return json.loads(candidate)\n",
    "        except Exception:\n",
    "            pass\n",
    "    # Try greedy first/last brace\n",
    "    first = text.find(\"{\")\n",
    "    last = text.rfind(\"}\")\n",
    "    if first != -1 and last != -1 and last > first:\n",
    "        candidate = text[first:last+1]\n",
    "        try:\n",
    "            return json.loads(candidate)\n",
    "        except Exception:\n",
    "            pass\n",
    "    # As-is\n",
    "    return json.loads(text)\n"
   ]
  },
  {
   "cell_type": "code",
   "execution_count": 203,
   "id": "bf63c681",
   "metadata": {},
   "outputs": [],
   "source": [
    "def flight_data_node(state: State) -> State:\n",
    "    start_flight = state['start_flight']\n",
    "    return_flight = state['return_flight']\n",
    "    # Run agent\n",
    "    agent_input = {\"messages\": state['messages'] + [HumanMessage(content=f\"Get data for {start_flight} and {return_flight}\")]}\n",
    "    agent_output = flight_data_agent.invoke(agent_input)\n",
    "    # Parse safely\n",
    "    final_content = agent_output['messages'][-1].content\n",
    "    try:\n",
    "        if not final_content.strip():\n",
    "            print(\"Warning: Agent output is empty\")\n",
    "            flight_info = {}\n",
    "        else:\n",
    "            flight_info = json.loads(final_content)\n",
    "    except json.JSONDecodeError as e:\n",
    "        print(f\"JSON parsing failed: {e}\\nContent was: {final_content}\")\n",
    "        flight_info = {}\n",
    "    # Update state\n",
    "    state['flight_info'] = flight_info\n",
    "    state['messages'].append(SystemMessage(content=f\"Flight info updated: {flight_info}\"))\n",
    "    return state"
   ]
  },
  {
   "cell_type": "code",
   "execution_count": 204,
   "id": "ec34f258",
   "metadata": {},
   "outputs": [],
   "source": [
    "def calculate_trip_days(start_date: str, end_date: str) -> int:\n",
    "    \"\"\"Calculate the number of days in the trip, including start and end dates.\"\"\"\n",
    "    start = datetime.strptime(start_date, \"%Y-%m-%d\")\n",
    "    end = datetime.strptime(end_date, \"%Y-%m-%d\")\n",
    "    return (end - start).days + 1\n",
    "\n",
    "def _extract_json_object(text: str):\n",
    "    import re\n",
    "    import json\n",
    "\n",
    "    # Try code-fence wrapped JSON\n",
    "    if isinstance(text, dict):\n",
    "        return text\n",
    "    if not isinstance(text, str):\n",
    "        raise json.JSONDecodeError(\"Non-string content\", str(text), 0)\n",
    "\n",
    "    fenced = re.search(r\"```(?:json)?\\s*([\\s\\S]*?)```\", text, re.IGNORECASE)\n",
    "    if fenced:\n",
    "        candidate = fenced.group(1).strip()\n",
    "        try:\n",
    "            return json.loads(candidate)\n",
    "        except Exception as e:\n",
    "            print(\"Failed to parse fenced JSON:\", e)\n",
    "            print(\"Candidate was:\", candidate[:500])  # Print first 500 chars for debug\n",
    "\n",
    "    # Greedy braces fallback\n",
    "    first = text.find(\"{\")\n",
    "    last = text.rfind(\"}\")\n",
    "    if first != -1 and last != -1 and last > first:\n",
    "        candidate = text[first:last + 1]\n",
    "        try:\n",
    "            return json.loads(candidate)\n",
    "        except Exception as e:\n",
    "            print(\"Failed to parse greedy braces JSON:\", e)\n",
    "            print(\"Candidate was:\", candidate[:500])\n",
    "\n",
    "    # Direct parse\n",
    "    try:\n",
    "        return json.loads(text)\n",
    "    except Exception as e:\n",
    "        print(\"Failed to parse direct JSON:\", e)\n",
    "        print(\"Text was:\", text[:500])\n",
    "        raise\n"
   ]
  },
  {
   "cell_type": "code",
   "execution_count": 205,
   "id": "9ebf184f",
   "metadata": {},
   "outputs": [],
   "source": [
    "def daily_schedule_node(state: State):\n",
    "    trip_start = state.get(\"trip_start_date\")\n",
    "    trip_end = state.get(\"trip_end_date\")\n",
    "    preferences = state.get(\"traveler_preferences\", {})\n",
    "    flight_info = state.get(\"flight_info\", {})\n",
    "    city = state.get(\"city\", \"\")\n",
    "\n",
    "    # Calculate number of trip days\n",
    "    num_days = calculate_trip_days(trip_start, trip_end)\n",
    "\n",
    "    # Build prompts that force a strict JSON-only response\n",
    "    system_prompt = get_system_prompt(\n",
    "        \"Return ONLY a JSON object following required_output_format. Do not include any prose, code fences, or explanations.\"\n",
    "    )\n",
    "\n",
    "    # Updated user prompt with detailed instructions\n",
    "    user_prompt = json.dumps(\n",
    "        {\n",
    "            \"instructions\": (\n",
    "                \"Generate a diverse activity pool for the specified city and travel dates. \"\n",
    "                \"Food activities should include local restaurants, street food, or cooking classes. \"\n",
    "                \"Culture activities should include museums, historical sites, or festivals. \"\n",
    "                \"Light hiking should include scenic trails or parks suitable for light outdoor activity. \"\n",
    "                \"Tailor activities to the city, travel dates (considering seasonal factors), and preferences. \"\n",
    "                \"Schedule meals within lunch (12:00-13:00) and dinner (18:00-19:00) windows. \"\n",
    "                \"If preferences are missing, include a balanced mix of food, culture, and light hiking. \"\n",
    "                \"For multi-city trips, include transitions between cities based on flight_info. \"\n",
    "                \"Each day should have a balanced schedule from 09:00 to 20:00, respecting meal times. \"\n",
    "                \"On the first day, account for the start flight arrival time and limit activities to after arrival. \"\n",
    "                \"On the last day, account for the return flight departure time and schedule activities before departure. \"\n",
    "                f\"Generate a schedule for {num_days} days, labeling them as day1, day2, ..., day{num_days}. \"\n",
    "                \"Each day should have 3-5 activities, including at least one meal (lunch or dinner) and one activity from each preference (food, culture, light hiking) where possible.\"\n",
    "            ),\n",
    "            \"trip\": {\n",
    "                \"city\": city,\n",
    "                \"start_date\": trip_start,\n",
    "                \"end_date\": trip_end,\n",
    "                \"preferences\": preferences,\n",
    "            },\n",
    "            \"flight_info\": flight_info,\n",
    "            \"assumptions\": {\n",
    "                \"default_open\": \"09:00-20:00\",\n",
    "                \"avg_transit_min\": 20,\n",
    "                \"lunch_window\": \"12:00-13:00\",\n",
    "                \"dinner_window\": \"18:00-19:00\",\n",
    "            },\n",
    "            \"required_output_format\": {\n",
    "                f\"day{n}\": {\n",
    "                    \"activities\": [\n",
    "                        {\n",
    "                            \"name\": \"string\",\n",
    "                            \"location\": \"string\",\n",
    "                            \"activity_type\": \"food|culture|light_hiking|meal|transit|rest\",\n",
    "                            \"start_time\": \"HH:MM\",\n",
    "                            \"end_time\": \"HH:MM\",\n",
    "                            \"notes\": \"string\"\n",
    "                        }\n",
    "                    ]\n",
    "                } for n in range(1, num_days + 1)\n",
    "            },\n",
    "        }\n",
    "    )\n",
    "    \n",
    "    messages = [SystemMessage(content=system_prompt), HumanMessage(content=user_prompt)]\n",
    "\n",
    "    schedule_content =llm.invoke(messages).content\n",
    "    try:\n",
    "        parsed = _extract_json_object(schedule_content)\n",
    "        state[\"total_schedule\"] = parsed\n",
    "    except Exception:\n",
    "        state[\"total_schedule\"] = {f\"day{n}\": {\"activities\": []} for n in range(1, num_days + 1)}\n",
    "        state.setdefault(\"messages\", []).append(SystemMessage(content=\"Failed to parse schedule JSON\"))\n",
    "\n",
    "    return state"
   ]
  },
  {
   "cell_type": "code",
   "execution_count": 206,
   "id": "83609c4e",
   "metadata": {},
   "outputs": [],
   "source": [
    "def report_node(state):\n",
    "    \"\"\"\n",
    "    Generate a markdown trip report from the new state format.\n",
    "    \"\"\"\n",
    "    total = state.get(\"total_schedule\", {})\n",
    "    flight_info = state.get(\"flight_info\", {})\n",
    "    trip_start = state.get(\"trip_start_date\", \"\")\n",
    "    trip_end = state.get(\"trip_end_date\", \"\")\n",
    "    city = state.get(\"city\", \"\")\n",
    "    preferences = state.get(\"traveler_preferences\", {})\n",
    "    lines = []\n",
    "\n",
    "    # Title and overview\n",
    "    lines.append(f\"# Trip Plan: {trip_start} to {trip_end}\")\n",
    "    lines.append(\"\")\n",
    "    lines.append(\"## Overview\")\n",
    "    lines.append(f\"- **City:** {city}\")\n",
    "    if preferences:\n",
    "        lines.append(f\"- **Preferences:** {preferences}\")\n",
    "    if flight_info:\n",
    "        lines.append(\"- **Flights:**\")\n",
    "        start_f = flight_info.get(\"start_flight\", {})\n",
    "        ret_f = flight_info.get(\"return_flight\", {})\n",
    "        if start_f:\n",
    "            lines.append(\n",
    "                f\"  - Outbound: {start_f.get('departure_airport','')} → {start_f.get('arrival_airport','')} \"\n",
    "                f\"({start_f.get('departure_time','')}–{start_f.get('estimated_arrival_time','')})\"\n",
    "            )\n",
    "        if ret_f:\n",
    "            lines.append(\n",
    "                f\"  - Return: {ret_f.get('departure_airport','')} → {ret_f.get('arrival_airport','')} \"\n",
    "                f\"({ret_f.get('departure_time','')}–{ret_f.get('estimated_arrival_time','')})\"\n",
    "            )\n",
    "    lines.append(\"\")\n",
    "\n",
    "    # Daily schedule\n",
    "    lines.append(\"## Daily Schedule\")\n",
    "    for day_key in sorted(total.keys(), key=lambda k: int(k[3:]) if k.startswith('day') and k[3:].isdigit() else k):\n",
    "        day = total[day_key]\n",
    "        lines.append(f\"### {day_key.capitalize()}\")\n",
    "        lines.append(\"| Time | Type | Name | Location | Notes |\")\n",
    "        lines.append(\"|------|------|------|----------|-------|\")\n",
    "        for item in day.get(\"activities\", []):\n",
    "            time_str = f\"{item.get('start_time','')}–{item.get('end_time','')}\" if item.get('end_time') else item.get('start_time','')\n",
    "            lines.append(\n",
    "                f\"| {time_str} | {item.get('activity_type','')} | {item.get('name','')} | {item.get('location','')} | {item.get('notes','')} |\"\n",
    "            )\n",
    "        lines.append(\"\")\n",
    "\n",
    "    state[\"report_markdown\"] = \"\\n\".join(lines)\n",
    "    return state"
   ]
  },
  {
   "cell_type": "code",
   "execution_count": 207,
   "id": "f5f35414",
   "metadata": {},
   "outputs": [],
   "source": [
    "workflow = StateGraph(State)\n",
    "\n",
    "# Nodes\n",
    "workflow.add_node(\"flight_data\", flight_data_node)\n",
    "workflow.add_node(\"daily_schedule\", daily_schedule_node)\n",
    "workflow.add_node(\"report\", report_node)\n",
    "\n",
    "# Edges\n",
    "workflow.add_edge(START, \"flight_data\")\n",
    "workflow.add_edge(\"flight_data\", \"daily_schedule\")\n",
    "workflow.add_edge(\"daily_schedule\", \"report\")\n",
    "workflow.add_edge(\"report\", END)\n",
    "\n",
    "# Entry point\n",
    "workflow.set_entry_point(\"flight_data\")\n",
    "\n",
    "graph = workflow.compile()"
   ]
  },
  {
   "cell_type": "code",
   "execution_count": 208,
   "id": "beaaeb4e",
   "metadata": {},
   "outputs": [
    {
     "name": "stdout",
     "output_type": "stream",
     "text": [
      "---\n",
      "config:\n",
      "  flowchart:\n",
      "    curve: linear\n",
      "---\n",
      "graph TD;\n",
      "\t__start__([<p>__start__</p>]):::first\n",
      "\tflight_data(flight_data)\n",
      "\tdaily_schedule(daily_schedule)\n",
      "\treport(report)\n",
      "\t__end__([<p>__end__</p>]):::last\n",
      "\t__start__ --> flight_data;\n",
      "\tdaily_schedule --> report;\n",
      "\tflight_data --> daily_schedule;\n",
      "\treport --> __end__;\n",
      "\tclassDef default fill:#f2f0ff,line-height:1.2\n",
      "\tclassDef first fill-opacity:0\n",
      "\tclassDef last fill:#bfb6fc\n",
      "\n"
     ]
    }
   ],
   "source": [
    "print(graph.get_graph().draw_mermaid())"
   ]
  },
  {
   "cell_type": "code",
   "execution_count": 209,
   "id": "9b99935b",
   "metadata": {},
   "outputs": [
    {
     "name": "stdout",
     "output_type": "stream",
     "text": [
      "  +-----------+    \n",
      "  | __start__ |    \n",
      "  +-----------+    \n",
      "         *         \n",
      "         *         \n",
      "         *         \n",
      "  +-------------+  \n",
      "  | flight_data |  \n",
      "  +-------------+  \n",
      "         *         \n",
      "         *         \n",
      "         *         \n",
      "+----------------+ \n",
      "| daily_schedule | \n",
      "+----------------+ \n",
      "         *         \n",
      "         *         \n",
      "         *         \n",
      "    +--------+     \n",
      "    | report |     \n",
      "    +--------+     \n",
      "         *         \n",
      "         *         \n",
      "         *         \n",
      "    +---------+    \n",
      "    | __end__ |    \n",
      "    +---------+    \n"
     ]
    }
   ],
   "source": [
    "graph.get_graph().print_ascii()"
   ]
  },
  {
   "cell_type": "markdown",
   "id": "fb06aaa1",
   "metadata": {},
   "source": [
    "### Run Graph"
   ]
  },
  {
   "cell_type": "code",
   "execution_count": 210,
   "id": "b1e35ed0",
   "metadata": {},
   "outputs": [],
   "source": [
    "TRIP_START = \"2025-03-10\"\n",
    "TRIP_END = \"2025-03-15\"\n",
    "START_FLIGHT = \"UO870\"\n",
    "RETURN_FLIGHT = \"UO871\"\n",
    "PREFERENCES = {\n",
    "    \"pace\": \"moderate\",\n",
    "    \"interests\": [\"food\", \"culture\", \"light hiking\"],\n",
    "    \"budget\": \"mid\",\n",
    "}\n",
    "\n",
    "#EMAIL_ADDRESS = \"terence2379@gmail.com\""
   ]
  },
  {
   "cell_type": "code",
   "execution_count": 211,
   "id": "38fc86f9",
   "metadata": {},
   "outputs": [],
   "source": [
    "input_message = HumanMessage(\n",
    "    content=(\n",
    "        \"Plan a 5-day trip with start flight is {START_FLIGHT} and return flight is {RETURN_FLIGHT}\"\n",
    "    )\n",
    ")"
   ]
  },
  {
   "cell_type": "code",
   "execution_count": 212,
   "id": "a7dd2e0f",
   "metadata": {},
   "outputs": [
    {
     "data": {
      "text/markdown": [
       "# Trip Plan: 2025-03-10 to 2025-03-15\n",
       "\n",
       "## Overview\n",
       "- **City:** \n",
       "- **Preferences:** {'pace': 'moderate', 'interests': ['food', 'culture', 'light hiking'], 'budget': 'mid'}\n",
       "- **Flights:**\n",
       "  - Outbound: Hong Kong International Airport → Tokyo Narita International Airport (10:46–14:55)\n",
       "  - Return: Tokyo Narita International Airport → Hong Kong International Airport (16:49–21:03)\n",
       "\n",
       "## Daily Schedule\n",
       "### Day1\n",
       "| Time | Type | Name | Location | Notes |\n",
       "|------|------|------|----------|-------|\n",
       "| 10:46–14:55 | transit | Flight from Hong Kong to Tokyo | Tokyo Narita International Airport | International flight arrival |\n",
       "| 15:15–16:15 | transit | Airport to Hotel Transfer | Tokyo city center | Narita Express train to central Tokyo |\n",
       "| 16:15–17:30 | rest | Check-in and Rest | Hotel | Settle in and refresh after travel |\n",
       "| 18:00–19:00 | food | Ramen Dinner at Ichiran | Shibuya | Famous tonkotsu ramen chain, individual booths |\n",
       "| 19:15–20:00 | light_hiking | Evening Walk at Shibuya Crossing | Shibuya | Experience the famous scramble crossing and Hachiko statue |\n",
       "\n",
       "### Day2\n",
       "| Time | Type | Name | Location | Notes |\n",
       "|------|------|------|----------|-------|\n",
       "| 09:00–11:00 | food | Tsukiji Outer Market Exploration | Tsukiji | Sample fresh seafood, tamagoyaki, and street food |\n",
       "| 11:15–12:45 | light_hiking | Hama-rikyu Gardens | Chuo Ward | Traditional Japanese landscape garden with tea house |\n",
       "| 13:00–14:00 | meal | Sushi Lunch at Local Restaurant | Ginza | Mid-range sushi restaurant in Ginza area |\n",
       "| 14:30–17:00 | culture | Tokyo National Museum | Ueno Park | Largest art museum in Japan, extensive samurai collection |\n",
       "| 18:00–19:00 | food | Yakitori Dinner at Memory Lane | Shinjuku | Traditional yakitori alley with small restaurants |\n",
       "\n",
       "### Day3\n",
       "| Time | Type | Name | Location | Notes |\n",
       "|------|------|------|----------|-------|\n",
       "| 09:00–10:30 | culture | Meiji Shrine Visit | Shibuya | Shinto shrine dedicated to Emperor Meiji, peaceful forest setting |\n",
       "| 10:45–12:00 | light_hiking | Yoyogi Park Walk | Shibuya | Large urban park adjacent to Meiji Shrine |\n",
       "| 12:30–13:30 | meal | Takoyaki Lunch at Harajuku | Harajuku | Street food experience in Takeshita Street |\n",
       "| 14:15–16:30 | culture | Senso-ji Temple | Asakusa | Tokyo's oldest temple, Nakamise shopping street |\n",
       "| 18:00–19:00 | food | Tempura Dinner at Tenichi | Ginza | Established tempura restaurant with counter seating |\n",
       "\n",
       "### Day4\n",
       "| Time | Type | Name | Location | Notes |\n",
       "|------|------|------|----------|-------|\n",
       "| 09:00–13:00 | light_hiking | Mount Takao Hike | Hachioji | Easy mountain trail with cable car option, temple at summit |\n",
       "| 13:15–14:15 | meal | Soba Lunch at Mountain Restaurant | Mount Takao | Traditional buckwheat noodles at mountain base |\n",
       "| 15:30–17:00 | culture | Tokyo Metropolitan Government Building | Shinjuku | Free observation decks with panoramic city views |\n",
       "| 18:00–19:00 | food | Okonomiyaki Dinner at Sometaro | Asakusa | Traditional Japanese savory pancake cooked at table |\n",
       "\n",
       "### Day5\n",
       "| Time | Type | Name | Location | Notes |\n",
       "|------|------|------|----------|-------|\n",
       "| 09:00–11:00 | light_hiking | Imperial Palace East Gardens | Chiyoda | Former castle grounds with beautiful seasonal gardens |\n",
       "| 11:30–13:30 | culture | Edo-Tokyo Museum | Ryogoku | History of Tokyo from Edo period to present |\n",
       "| 13:45–14:45 | meal | Chanko Nabe Lunch | Ryogoku | Sumo wrestler's hot pot in sumo district |\n",
       "| 15:30–17:30 | food | Japanese Cooking Class | Shinjuku | Learn to make sushi, tempura, and miso soup |\n",
       "| 18:00–19:30 | food | Izakaya Dinner Experience | Shinjuku | Japanese pub-style dining with small plates and drinks |\n",
       "\n",
       "### Day6\n",
       "| Time | Type | Name | Location | Notes |\n",
       "|------|------|------|----------|-------|\n",
       "| 09:00–10:30 | light_hiking | Ueno Park Morning Walk | Ueno | Large public park with temples, museums, and zoo |\n",
       "| 10:45–12:15 | food | Ameyoko Market Food Tour | Ueno | Bustling market street with diverse food stalls |\n",
       "| 12:45–14:00 | culture | Last Minute Souvenir Shopping | Ginza | Department stores and specialty shops for gifts |\n",
       "| 14:30–15:45 | transit | Airport Transfer | Tokyo Narita International Airport | Narita Express to airport for return flight |\n",
       "| 16:49–21:03 | transit | Flight to Hong Kong | Tokyo Narita International Airport | Return flight departure |\n"
      ],
      "text/plain": [
       "<IPython.core.display.Markdown object>"
      ]
     },
     "metadata": {},
     "output_type": "display_data"
    }
   ],
   "source": [
    "events = graph.stream(\n",
    "    input={\n",
    "        \"messages\": [input_message],\n",
    "        \"trip_start_date\": TRIP_START,\n",
    "        \"trip_end_date\": TRIP_END,\n",
    "        \"start_flight\": START_FLIGHT,\n",
    "        \"return_flight\": RETURN_FLIGHT,\n",
    "        \"traveler_preferences\": PREFERENCES,\n",
    "    },\n",
    "    config={\"recursion_limit\": 50},  # Increased from 30\n",
    "    stream_mode=\"values\",\n",
    ")\n",
    "final_report = None\n",
    "for event in events:\n",
    "    if \"report_markdown\" in event:\n",
    "        final_report = event[\"report_markdown\"]\n",
    "\n",
    "if final_report:\n",
    "    display(Markdown(final_report))\n",
    "else:\n",
    "    print(\"No final report produced. Check inputs or graph configuration.\")"
   ]
  }
 ],
 "metadata": {
  "kernelspec": {
   "display_name": ".venv",
   "language": "python",
   "name": "python3"
  },
  "language_info": {
   "codemirror_mode": {
    "name": "ipython",
    "version": 3
   },
   "file_extension": ".py",
   "mimetype": "text/x-python",
   "name": "python",
   "nbconvert_exporter": "python",
   "pygments_lexer": "ipython3",
   "version": "3.13.7"
  }
 },
 "nbformat": 4,
 "nbformat_minor": 5
}
