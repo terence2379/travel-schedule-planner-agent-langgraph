{
 "cells": [
  {
   "cell_type": "code",
   "execution_count": 1,
   "id": "182a1d6f",
   "metadata": {},
   "outputs": [],
   "source": [
    "%load_ext autoreload\n",
    "%autoreload 2"
   ]
  },
  {
   "cell_type": "code",
   "execution_count": 2,
   "id": "13135170",
   "metadata": {},
   "outputs": [],
   "source": [
    "import os\n",
    "import json\n",
    "import dotenv"
   ]
  },
  {
   "cell_type": "code",
   "execution_count": 3,
   "id": "237a59cb",
   "metadata": {},
   "outputs": [
    {
     "data": {
      "text/plain": [
       "True"
      ]
     },
     "execution_count": 3,
     "metadata": {},
     "output_type": "execute_result"
    }
   ],
   "source": [
    "dotenv.load_dotenv()"
   ]
  },
  {
   "cell_type": "code",
   "execution_count": 4,
   "id": "bd984a71",
   "metadata": {},
   "outputs": [],
   "source": [
    "from typing import TypedDict, Annotated, List, Dict, Literal\n",
    "from typing_extensions import TypedDict\n",
    "from IPython.display import display, Markdown, Image\n",
    "import operator"
   ]
  },
  {
   "cell_type": "code",
   "execution_count": 5,
   "id": "4dd0284b",
   "metadata": {},
   "outputs": [],
   "source": [
    "from langchain_deepseek import ChatDeepSeek\n",
    "from langchain_core.tools import tool\n",
    "from langgraph.prebuilt import create_react_agent"
   ]
  },
  {
   "cell_type": "code",
   "execution_count": 6,
   "id": "018bcff0",
   "metadata": {},
   "outputs": [],
   "source": [
    "from langgraph.graph import START, END, StateGraph\n",
    "from langgraph.types import Command\n",
    "from langchain_core.messages import HumanMessage, BaseMessage, SystemMessage\n",
    "from langchain_experimental.utilities import PythonREPL\n",
    "from langgraph.graph.message import add_messages"
   ]
  },
  {
   "cell_type": "code",
   "execution_count": 7,
   "id": "9aff2c05",
   "metadata": {},
   "outputs": [],
   "source": [
    "#from src.utils_email import send_report_via_email\n",
    "from src.utils_trans import search_flight_details"
   ]
  },
  {
   "cell_type": "code",
   "execution_count": 8,
   "id": "235e9f33",
   "metadata": {},
   "outputs": [],
   "source": [
    "def get_system_prompt(suffix: str) -> str:\n",
    "    return (\n",
    "        \"You are a helpful AI assistant, collaborating with other assistants.\"\n",
    "        \" Use the provided tools to progress towards answering the question.\"\n",
    "        \" Always format your final answer as a JSON string.\"\n",
    "        f\"\\n{suffix}\"\n",
    "    )"
   ]
  },
  {
   "cell_type": "code",
   "execution_count": 7,
   "id": "73896693",
   "metadata": {},
   "outputs": [],
   "source": [
    "llm = ChatDeepSeek(model=\"deepseek-chat\",\n",
    "                   api_key=os.getenv(\"DEEPSEEK_API_KEY\"))"
   ]
  },
  {
   "cell_type": "code",
   "execution_count": 9,
   "id": "ee84e3e3",
   "metadata": {},
   "outputs": [],
   "source": [
    "class State(TypedDict):\n",
    "    messages: Annotated[List, add_messages]  # Chat history\n",
    "    outbond_flight: str # ser input\n",
    "    return_flight: str  # user input\n",
    "    outbond_date: str  # user input\n",
    "    return_date: str  # user input\n",
    "\n",
    "    trip_day: int #from trip info agent\n",
    "    location: str  #from trip info agent\n",
    "    arrival_time: str #from trip info agent\n",
    "    return_time: str #from trip info agent\n",
    "\n",
    "    splits: List[Dict]\n",
    "    num_splits: int\n",
    "    chunk_results: Annotated[List[Dict], operator.add]\n",
    "\n",
    "    combined_schedule: Dict\n"
   ]
  },
  {
   "cell_type": "markdown",
   "id": "76e70883",
   "metadata": {},
   "source": [
    "### Transportation Research Agent"
   ]
  },
  {
   "cell_type": "code",
   "execution_count": null,
   "id": "cefa5699",
   "metadata": {},
   "outputs": [],
   "source": [
    "@tool\n",
    "def get_flight_data(\n",
    ") -> str:\n",
    "    \"\"\"\n",
    "\n",
    "    Retrieve location and time information for a round-trip flight to assist with travel planning.\n",
    "\n",
    "    Returns:\n",
    "        start_flight (str): Flight number for the departure flight.\n",
    "        return_flight (str): Flight number for the return flight.\n",
    "    \"\"\"\n",
    "\n",
    "    result = search_flight_details()\n",
    "    return json.dumps(result)"
   ]
  },
  {
   "cell_type": "code",
   "execution_count": null,
   "id": "3e629950",
   "metadata": {},
   "outputs": [
    {
     "data": {
      "text/plain": [
       "'{\"start_flight\": {\"departure_airport\": \"Hong Kong International Airport\", \"arrival_airport\": \"Osaka Kansai International Airport\", \"departure_region\": \"Hong Kong\", \"arrival_region\": \"Osaka\", \"departure_time\": \"09:11\", \"estimated_arrival_time\": \"12:36\"}, \"return_flight\": {\"departure_airport\": \"Osaka Kansai International Airport\", \"arrival_airport\": \"Hong Kong International Airport\", \"departure_region\": \"Osaka\", \"arrival_region\": \"Hong Kong\", \"departure_time\": \"09:11\", \"estimated_arrival_time\": \"12:41\"}}'"
      ]
     },
     "execution_count": 36,
     "metadata": {},
     "output_type": "execute_result"
    }
   ],
   "source": [
    "#get_flight_data()"
   ]
  },
  {
   "cell_type": "code",
   "execution_count": 40,
   "id": "5c7e1e79",
   "metadata": {},
   "outputs": [],
   "source": [
    "flight_data_agent = create_react_agent(\n",
    "    llm,\n",
    "    tools=[get_flight_data],\n",
    "    prompt=get_system_prompt(\n",
    "        \"You are a travel planning assistant, specializing in retrieving and presenting round-trip flight information. Your primary tool, get_flight_data, accepts two flight numbers (departure and return) and returns a JSON string with details including departure and arrival airports, regions, and times.\"\n",
    "    ),\n",
    ")"
   ]
  },
  {
   "cell_type": "markdown",
   "id": "415c7a8d",
   "metadata": {},
   "source": [
    "### Activities (Weather focused) Agent"
   ]
  },
  {
   "cell_type": "code",
   "execution_count": null,
   "id": "02022e5e",
   "metadata": {},
   "outputs": [],
   "source": [
    "@tool\n",
    "def search_seasonal_activities(city: str, season: str) -> str:\n",
    "    \n",
    "    return json.dumps(activities)"
   ]
  },
  {
   "cell_type": "code",
   "execution_count": null,
   "id": "06bfc83f",
   "metadata": {},
   "outputs": [],
   "source": [
    "activities_prompt = get_system_prompt(\n",
    "    \"\"\"You are an activities recommendation agent for Japan trips. Determine season from start_date (spring: Mar-May, summer: Jun-Aug, autumn: Sep-Nov, winter: Dec-Feb).\n",
    "    Focus on seasonal highlights like sakura in spring or snow in winter.\n",
    "    Use arrival region from flight_info and season from start_date.\n",
    "    Recommend 5-10 activities with locations, duration, best_time, description. Use tools if needed.\n",
    "    Output as JSON list of dicts.\"\"\"\n",
    ")\n"
   ]
  },
  {
   "cell_type": "code",
   "execution_count": null,
   "id": "16830533",
   "metadata": {},
   "outputs": [],
   "source": [
    "activities_agent = create_react_agent(\n",
    "    llm,\n",
    "    tools=[search_seasonal_activities],\n",
    "    prompt=activities_prompt,\n",
    ")"
   ]
  },
  {
   "cell_type": "markdown",
   "id": "1ff43fe8",
   "metadata": {},
   "source": [
    "### Schedule Generate Agent"
   ]
  },
  {
   "cell_type": "code",
   "execution_count": null,
   "id": "42cf20d7",
   "metadata": {},
   "outputs": [],
   "source": []
  },
  {
   "cell_type": "code",
   "execution_count": null,
   "id": "289565e8",
   "metadata": {},
   "outputs": [],
   "source": [
    "@tool\n",
    "def get_date_range(start_date: str, return_date: str) -> str:\n",
    "    \"\"\"Get list of dates in trip.\"\"\"\n",
    "    from datetime import datetime, timedelta\n",
    "    dates = []\n",
    "    current = datetime.strptime(start_date, '%Y-%m-%d')\n",
    "    end = datetime.strptime(return_date, '%Y-%m-%d')\n",
    "    while current < end:\n",
    "        dates.append(current.strftime('%Y-%m-%d'))\n",
    "        current += timedelta(days=1)\n",
    "    return json.dumps(dates)"
   ]
  },
  {
   "cell_type": "code",
   "execution_count": null,
   "id": "9f73475a",
   "metadata": {},
   "outputs": [],
   "source": [
    "schedule_prompt = get_system_prompt(\n",
    "    \"\"\"You are a schedule agent. Using activities list, flight_info (arrival/departure times), and dates, create a daily itinerary.\n",
    "    Consider location proximity, travel times (use tools), and avoid overload. \n",
    "    Output as JSON: {date: [{activity: ..., start_time: ..., location: ...}]}.\"\"\"\n",
    ")"
   ]
  },
  {
   "cell_type": "code",
   "execution_count": null,
   "id": "871df3d5",
   "metadata": {},
   "outputs": [],
   "source": [
    "schedule_agent = create_react_agent(\n",
    "    llm,\n",
    "    tools=[get_date_range],\n",
    "    prompt=schedule_prompt)"
   ]
  },
  {
   "cell_type": "markdown",
   "id": "aaa4b919",
   "metadata": {},
   "source": [
    "### Define Graph"
   ]
  },
  {
   "cell_type": "code",
   "execution_count": 10,
   "id": "6c8e2b43",
   "metadata": {},
   "outputs": [],
   "source": [
    "def flight_data_node(state: State) -> State:\n",
    "    start_flight = state.get('start_flight') or \"extract_from_messages\"\n",
    "    return_flight = state.get('return_flight') or \"extract_from_messages\"\n",
    "    \n",
    "    # Run agent (assuming it calls tool and gets JSON)\n",
    "    agent_output = flight_data_agent.invoke({\"messages\": state['messages'] + [HumanMessage(content=f\"Get data for {start_flight} and {return_flight}\")]})\n",
    "    \n",
    "    # Parse and update state\n",
    "    flight_info = json.loads(agent_output['output'])  # Or similar\n",
    "    state['flight_info'] = flight_info\n",
    "    state['start_date'] = \"parse_from_flight_info\"  # e.g., extract scheduled date\n",
    "    state['return_date'] = \"parse_from_flight_info\"\n",
    "    state['messages'].append(SystemMessage(content=\"Flight info updated.\"))\n",
    "    return state"
   ]
  },
  {
   "cell_type": "code",
   "execution_count": 11,
   "id": "804ff3b8",
   "metadata": {},
   "outputs": [],
   "source": [
    "def day_to_split_node(state: State) -> State:\n",
    "    return state\n"
   ]
  },
  {
   "cell_type": "code",
   "execution_count": 12,
   "id": "ad7a9fd9",
   "metadata": {},
   "outputs": [],
   "source": [
    "def activities_pool_node(state: State) -> State:\n",
    "    return state"
   ]
  },
  {
   "cell_type": "code",
   "execution_count": 13,
   "id": "a9d58f1f",
   "metadata": {},
   "outputs": [],
   "source": [
    "def daily_schedule_node(state: State) -> State:\n",
    "    return state"
   ]
  },
  {
   "cell_type": "code",
   "execution_count": 14,
   "id": "4f249454",
   "metadata": {},
   "outputs": [],
   "source": [
    "def total_schedule_node(state: State) -> State:\n",
    "    return state"
   ]
  },
  {
   "cell_type": "code",
   "execution_count": 15,
   "id": "91cb06e6",
   "metadata": {},
   "outputs": [],
   "source": [
    "def report_node(state: State) -> State:\n",
    "    return state"
   ]
  },
  {
   "cell_type": "code",
   "execution_count": 16,
   "id": "200a7cf6",
   "metadata": {},
   "outputs": [],
   "source": [
    "def join_func(state: State) -> Dict:\n",
    "    if len(state['chunk_results']) == state['num_splits']:\n",
    "        combined = { \n",
    "            'total_trip_schedule': sum(chunk['days'] for chunk in state['chunk_results']),  # Placeholder logic\n",
    "            'all_schedules': state['chunk_results']\n",
    "        }\n",
    "        return {'combined_schedule': combined}  # Update state for report_agent\n",
    "    else:\n",
    "        return {}  # Not all done yet; noop"
   ]
  },
  {
   "cell_type": "code",
   "execution_count": 17,
   "id": "b7fa4d38",
   "metadata": {},
   "outputs": [],
   "source": [
    "def split_router(state: State):\n",
    "    return [Send(\"activities_pool_agent\", {\"current_chunk\": chunk}) for chunk in state['splits']]"
   ]
  },
  {
   "cell_type": "code",
   "execution_count": 18,
   "id": "21fe6a97",
   "metadata": {},
   "outputs": [],
   "source": [
    "def total_schedule_func(state: State) -> Dict:\n",
    "    # Compute schedule based on state['current_chunk'] (and prior steps' outputs)\n",
    "    chunk_schedule = {'location': state['current_chunk']['location'], 'schedule': ...}  # Your logic\n",
    "    return {'chunk_results': [chunk_schedule]}  # Note: list for reducer concatenation"
   ]
  },
  {
   "cell_type": "code",
   "execution_count": 19,
   "id": "51aed199",
   "metadata": {},
   "outputs": [],
   "source": [
    "def join_router(state: State):\n",
    "    if 'combined_schedule' in state:  # Or check len(chunk_results) == num_splits again\n",
    "        return \"report_agent\"\n",
    "    else:\n",
    "        return \"__end__\"  # End this branch early\n",
    "\n"
   ]
  },
  {
   "cell_type": "code",
   "execution_count": 20,
   "id": "9802e494",
   "metadata": {},
   "outputs": [],
   "source": [
    "workflow = StateGraph(State)\n",
    "workflow.add_node(\"flight_data_acquisition_agent\", flight_data_node)\n",
    "workflow.add_node(\"day_to_split_agent\", day_to_split_node)\n",
    "workflow.add_node(\"join_agent\", join_func)\n",
    "workflow.add_node(\"activities_pool_agent\", activities_pool_node)\n",
    "workflow.add_node(\"daily_schedule_agent\", daily_schedule_node)\n",
    "workflow.add_node(\"total_schedule_agent\", total_schedule_node)\n",
    "workflow.add_node(\"report_agent\", report_node)\n",
    "\n",
    "\n",
    "\n",
    "# Sequential edges\n",
    "workflow.add_edge(\"flight_data_acquisition_agent\", \"day_to_split_agent\")\n",
    "workflow.add_conditional_edges(\"day_to_split_agent\", split_router)\n",
    "workflow.add_edge(\"activities_pool_agent\", \"daily_schedule_agent\")\n",
    "workflow.add_edge(\"daily_schedule_agent\", \"total_schedule_agent\")\n",
    "workflow.add_edge(\"total_schedule_agent\", \"join_agent\")\n",
    "workflow.add_conditional_edges(\"join_agent\", join_router)\n",
    "\n",
    "workflow.add_edge(\"report_agent\", END)\n",
    "\n",
    "# Entry point (start with user message in state['messages'])\n",
    "workflow.set_entry_point(\"flight_data_acquisition_agent\")\n",
    "graph = workflow.compile()"
   ]
  },
  {
   "cell_type": "code",
   "execution_count": 21,
   "id": "98c9cb6f",
   "metadata": {},
   "outputs": [
    {
     "ename": "ImportError",
     "evalue": "Install pygraphviz to draw graphs: `pip install pygraphviz`.",
     "output_type": "error",
     "traceback": [
      "\u001b[31m---------------------------------------------------------------------------\u001b[39m",
      "\u001b[31mImportError\u001b[39m                               Traceback (most recent call last)",
      "\u001b[36mCell\u001b[39m\u001b[36m \u001b[39m\u001b[32mIn[21]\u001b[39m\u001b[32m, line 1\u001b[39m\n\u001b[32m----> \u001b[39m\u001b[32m1\u001b[39m \u001b[43mgraph\u001b[49m\u001b[43m.\u001b[49m\u001b[43mget_graph\u001b[49m\u001b[43m(\u001b[49m\u001b[43m)\u001b[49m\u001b[43m.\u001b[49m\u001b[43mdraw_png\u001b[49m\u001b[43m(\u001b[49m\u001b[43m)\u001b[49m\n",
      "\u001b[36mFile \u001b[39m\u001b[32mc:\\Users\\terence\\workspace\\travel-schedule-planner-agent-langgraph\\.venv\\Lib\\site-packages\\langchain_core\\runnables\\graph.py:577\u001b[39m, in \u001b[36mGraph.draw_png\u001b[39m\u001b[34m(self, output_file_path, fontname, labels)\u001b[39m\n\u001b[32m    564\u001b[39m \u001b[38;5;28;01mfrom\u001b[39;00m\u001b[38;5;250m \u001b[39m\u001b[34;01mlangchain_core\u001b[39;00m\u001b[34;01m.\u001b[39;00m\u001b[34;01mrunnables\u001b[39;00m\u001b[34;01m.\u001b[39;00m\u001b[34;01mgraph_png\u001b[39;00m\u001b[38;5;250m \u001b[39m\u001b[38;5;28;01mimport\u001b[39;00m PngDrawer  \u001b[38;5;66;03m# noqa: PLC0415\u001b[39;00m\n\u001b[32m    566\u001b[39m default_node_labels = {node.id: node.name \u001b[38;5;28;01mfor\u001b[39;00m node \u001b[38;5;129;01min\u001b[39;00m \u001b[38;5;28mself\u001b[39m.nodes.values()}\n\u001b[32m    568\u001b[39m \u001b[38;5;28;01mreturn\u001b[39;00m \u001b[43mPngDrawer\u001b[49m\u001b[43m(\u001b[49m\n\u001b[32m    569\u001b[39m \u001b[43m    \u001b[49m\u001b[43mfontname\u001b[49m\u001b[43m,\u001b[49m\n\u001b[32m    570\u001b[39m \u001b[43m    \u001b[49m\u001b[43mLabelsDict\u001b[49m\u001b[43m(\u001b[49m\n\u001b[32m    571\u001b[39m \u001b[43m        \u001b[49m\u001b[43mnodes\u001b[49m\u001b[43m=\u001b[49m\u001b[43m{\u001b[49m\n\u001b[32m    572\u001b[39m \u001b[43m            \u001b[49m\u001b[43m*\u001b[49m\u001b[43m*\u001b[49m\u001b[43mdefault_node_labels\u001b[49m\u001b[43m,\u001b[49m\n\u001b[32m    573\u001b[39m \u001b[43m            \u001b[49m\u001b[43m*\u001b[49m\u001b[43m*\u001b[49m\u001b[43m(\u001b[49m\u001b[43mlabels\u001b[49m\u001b[43m[\u001b[49m\u001b[33;43m\"\u001b[39;49m\u001b[33;43mnodes\u001b[39;49m\u001b[33;43m\"\u001b[39;49m\u001b[43m]\u001b[49m\u001b[43m \u001b[49m\u001b[38;5;28;43;01mif\u001b[39;49;00m\u001b[43m \u001b[49m\u001b[43mlabels\u001b[49m\u001b[43m \u001b[49m\u001b[38;5;129;43;01mis\u001b[39;49;00m\u001b[43m \u001b[49m\u001b[38;5;129;43;01mnot\u001b[39;49;00m\u001b[43m \u001b[49m\u001b[38;5;28;43;01mNone\u001b[39;49;00m\u001b[43m \u001b[49m\u001b[38;5;28;43;01melse\u001b[39;49;00m\u001b[43m \u001b[49m\u001b[43m{\u001b[49m\u001b[43m}\u001b[49m\u001b[43m)\u001b[49m\u001b[43m,\u001b[49m\n\u001b[32m    574\u001b[39m \u001b[43m        \u001b[49m\u001b[43m}\u001b[49m\u001b[43m,\u001b[49m\n\u001b[32m    575\u001b[39m \u001b[43m        \u001b[49m\u001b[43medges\u001b[49m\u001b[43m=\u001b[49m\u001b[43mlabels\u001b[49m\u001b[43m[\u001b[49m\u001b[33;43m\"\u001b[39;49m\u001b[33;43medges\u001b[39;49m\u001b[33;43m\"\u001b[39;49m\u001b[43m]\u001b[49m\u001b[43m \u001b[49m\u001b[38;5;28;43;01mif\u001b[39;49;00m\u001b[43m \u001b[49m\u001b[43mlabels\u001b[49m\u001b[43m \u001b[49m\u001b[38;5;129;43;01mis\u001b[39;49;00m\u001b[43m \u001b[49m\u001b[38;5;129;43;01mnot\u001b[39;49;00m\u001b[43m \u001b[49m\u001b[38;5;28;43;01mNone\u001b[39;49;00m\u001b[43m \u001b[49m\u001b[38;5;28;43;01melse\u001b[39;49;00m\u001b[43m \u001b[49m\u001b[43m{\u001b[49m\u001b[43m}\u001b[49m\u001b[43m,\u001b[49m\n\u001b[32m    576\u001b[39m \u001b[43m    \u001b[49m\u001b[43m)\u001b[49m\u001b[43m,\u001b[49m\n\u001b[32m--> \u001b[39m\u001b[32m577\u001b[39m \u001b[43m\u001b[49m\u001b[43m)\u001b[49m\u001b[43m.\u001b[49m\u001b[43mdraw\u001b[49m\u001b[43m(\u001b[49m\u001b[38;5;28;43mself\u001b[39;49m\u001b[43m,\u001b[49m\u001b[43m \u001b[49m\u001b[43moutput_file_path\u001b[49m\u001b[43m)\u001b[49m\n",
      "\u001b[36mFile \u001b[39m\u001b[32mc:\\Users\\terence\\workspace\\travel-schedule-planner-agent-langgraph\\.venv\\Lib\\site-packages\\langchain_core\\runnables\\graph_png.py:137\u001b[39m, in \u001b[36mPngDrawer.draw\u001b[39m\u001b[34m(self, graph, output_path)\u001b[39m\n\u001b[32m    135\u001b[39m \u001b[38;5;28;01mif\u001b[39;00m \u001b[38;5;129;01mnot\u001b[39;00m _HAS_PYGRAPHVIZ:\n\u001b[32m    136\u001b[39m     msg = \u001b[33m\"\u001b[39m\u001b[33mInstall pygraphviz to draw graphs: `pip install pygraphviz`.\u001b[39m\u001b[33m\"\u001b[39m\n\u001b[32m--> \u001b[39m\u001b[32m137\u001b[39m     \u001b[38;5;28;01mraise\u001b[39;00m \u001b[38;5;167;01mImportError\u001b[39;00m(msg)\n\u001b[32m    139\u001b[39m \u001b[38;5;66;03m# Create a directed graph\u001b[39;00m\n\u001b[32m    140\u001b[39m viz = pgv.AGraph(directed=\u001b[38;5;28;01mTrue\u001b[39;00m, nodesep=\u001b[32m0.9\u001b[39m, ranksep=\u001b[32m1.0\u001b[39m)\n",
      "\u001b[31mImportError\u001b[39m: Install pygraphviz to draw graphs: `pip install pygraphviz`."
     ]
    }
   ],
   "source": [
    "graph.get_graph().draw_png()"
   ]
  },
  {
   "cell_type": "markdown",
   "id": "f0d6968c",
   "metadata": {},
   "source": [
    "### Run Graph"
   ]
  },
  {
   "cell_type": "code",
   "execution_count": null,
   "id": "0499b112",
   "metadata": {},
   "outputs": [],
   "source": [
    "input_message = HumanMessage(\n",
    "    content=\"Design a travel itinerary\")"
   ]
  },
  {
   "cell_type": "code",
   "execution_count": null,
   "id": "ee4d7804",
   "metadata": {},
   "outputs": [],
   "source": [
    "START_FLIGHT = \"HX614\"\n",
    "RETURN_FLIGHT = \"HX617\"\n",
    "START_DATE = \"2024-12-20\"\n",
    "RETURN_DATE = \"2025-01-05\"\n",
    "\n",
    "EMAIL_ADDRESS = \"terence2379@gmail.com\""
   ]
  },
  {
   "cell_type": "code",
   "execution_count": null,
   "id": "3e23c983",
   "metadata": {},
   "outputs": [],
   "source": [
    "events = graph.stream(\n",
    "    input={\n",
    "        \"messages\": [input_message],\n",
    "        \"start_flight\": START_FLIGHT,\n",
    "        \"return_flight\": RETURN_FLIGHT,\n",
    "        \"start_date\": START_DATE,\n",
    "        \"return_date\": RETURN_DATE\n",
    "    },\n",
    "    # Maximum number of steps to take in the graph\n",
    "    config={\"recursion_limit\": 15},\n",
    "    stream_mode=\"values\",\n",
    ")\n",
    "for event in events:\n",
    "    if \"messages\" in event:\n",
    "        message = event[\"messages\"][-1]\n",
    "        message.pretty_print()"
   ]
  },
  {
   "cell_type": "markdown",
   "id": "3196ee4b",
   "metadata": {},
   "source": [
    "### Send Email\n"
   ]
  },
  {
   "cell_type": "code",
   "execution_count": null,
   "id": "75a3d134",
   "metadata": {},
   "outputs": [],
   "source": [
    "body = message.content\n",
    "\n",
    "title = llm.invoke(\n",
    "    f\"Extract the subject from this report content as the email subject and return the title directly without any introductory text: {body}\")\n",
    "\n",
    "subject = title.content"
   ]
  },
  {
   "cell_type": "code",
   "execution_count": null,
   "id": "e9b17d1e",
   "metadata": {},
   "outputs": [],
   "source": [
    "result = send_report_via_email(subject, body, EMAIL_ADDRESS)\n",
    "print(result)"
   ]
  },
  {
   "cell_type": "code",
   "execution_count": null,
   "id": "5a2389a3",
   "metadata": {},
   "outputs": [],
   "source": []
  }
 ],
 "metadata": {
  "kernelspec": {
   "display_name": ".venv (3.13.7)",
   "language": "python",
   "name": "python3"
  },
  "language_info": {
   "codemirror_mode": {
    "name": "ipython",
    "version": 3
   },
   "file_extension": ".py",
   "mimetype": "text/x-python",
   "name": "python",
   "nbconvert_exporter": "python",
   "pygments_lexer": "ipython3",
   "version": "3.13.7"
  }
 },
 "nbformat": 4,
 "nbformat_minor": 5
}
