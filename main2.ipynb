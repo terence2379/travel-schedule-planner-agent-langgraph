{
 "cells": [
  {
   "cell_type": "code",
   "execution_count": 189,
   "id": "182a1d6f",
   "metadata": {},
   "outputs": [
    {
     "name": "stdout",
     "output_type": "stream",
     "text": [
      "The autoreload extension is already loaded. To reload it, use:\n",
      "  %reload_ext autoreload\n"
     ]
    }
   ],
   "source": [
    "%load_ext autoreload\n",
    "%autoreload 2"
   ]
  },
  {
   "cell_type": "code",
   "execution_count": 190,
   "id": "13135170",
   "metadata": {},
   "outputs": [],
   "source": [
    "import os\n",
    "import json\n",
    "import dotenv"
   ]
  },
  {
   "cell_type": "code",
   "execution_count": 191,
   "id": "237a59cb",
   "metadata": {},
   "outputs": [
    {
     "data": {
      "text/plain": [
       "True"
      ]
     },
     "execution_count": 191,
     "metadata": {},
     "output_type": "execute_result"
    }
   ],
   "source": [
    "dotenv.load_dotenv()"
   ]
  },
  {
   "cell_type": "code",
   "execution_count": 192,
   "id": "bd984a71",
   "metadata": {},
   "outputs": [],
   "source": [
    "from typing import TypedDict, Annotated, List, Dict, Literal\n",
    "from typing_extensions import TypedDict\n",
    "from IPython.display import display, Markdown, Image\n",
    "import operator\n",
    "import grandalf\n",
    "import pygraphviz"
   ]
  },
  {
   "cell_type": "code",
   "execution_count": 193,
   "id": "4dd0284b",
   "metadata": {},
   "outputs": [],
   "source": [
    "from langchain_deepseek import ChatDeepSeek\n",
    "from langchain_core.tools import tool\n",
    "from langgraph.prebuilt import create_react_agent"
   ]
  },
  {
   "cell_type": "code",
   "execution_count": 194,
   "id": "018bcff0",
   "metadata": {},
   "outputs": [],
   "source": [
    "from langgraph.graph import START, END, StateGraph\n",
    "from langgraph.types import Command, Send\n",
    "from langchain_core.messages import HumanMessage, BaseMessage, SystemMessage\n",
    "from langchain_experimental.utilities import PythonREPL\n",
    "from langgraph.graph.message import add_messages"
   ]
  },
  {
   "cell_type": "code",
   "execution_count": 195,
   "id": "9aff2c05",
   "metadata": {},
   "outputs": [],
   "source": [
    "#from src.utils_email import send_report_via_email\n",
    "from src.utils_trans import search_flight_details"
   ]
  },
  {
   "cell_type": "code",
   "execution_count": 196,
   "id": "235e9f33",
   "metadata": {},
   "outputs": [],
   "source": [
    "def get_system_prompt(suffix: str) -> str:\n",
    "    return (\n",
    "        \"You are a helpful AI assistant, collaborating with other assistants.\"\n",
    "        \" Use the provided tools to progress towards answering the question.\"\n",
    "        \" Always format your final answer as a JSON string.\"\n",
    "        f\"\\n{suffix}\"\n",
    "    )"
   ]
  },
  {
   "cell_type": "code",
   "execution_count": 197,
   "id": "73896693",
   "metadata": {},
   "outputs": [],
   "source": [
    "llm = ChatDeepSeek(model=\"deepseek-chat\",\n",
    "                   api_key=os.getenv(\"DEEPSEEK_API_KEY\"))"
   ]
  },
  {
   "cell_type": "code",
   "execution_count": 198,
   "id": "ee84e3e3",
   "metadata": {},
   "outputs": [],
   "source": [
    "class State(TypedDict):\n",
    "    messages: Annotated[List, add_messages]\n",
    "    trip_start_date: str\n",
    "    trip_end_date: str\n",
    "    traveler_preferences: Dict\n",
    "\n",
    "    # Output of day_to_split_node\n",
    "    split_decision: Dict  # {\"should_split\": bool, \"rationale\": string}\n",
    "    segments: List[Dict]  # normalized segments\n",
    "\n",
    "    # Per-branch context (changed to Dict, no reducer)\n",
    "    current_segment: Dict\n",
    "\n",
    "    # Map branch intermediates per segment id\n",
    "    segment_pools: Annotated[List[Dict], operator.add]  # [{segment_id, activities: [...] }]\n",
    "    segment_schedules: Annotated[List[Dict], operator.add]  # [{segment_id, schedule: [...]}]\n",
    "\n",
    "    # Aggregation\n",
    "    total_schedule: Dict  # {days: [...], transitions: [...]} \n",
    "    report_markdown: str"
   ]
  },
  {
   "cell_type": "code",
   "execution_count": null,
   "id": "531707c1",
   "metadata": {},
   "outputs": [],
   "source": [
    "class State(TypedDict):\n",
    "    messages: Annotated[List, add_messages]\n",
    "    trip_start_date: str\n",
    "    trip_end_date: str\n",
    "    traveler_preferences: Dict\n",
    "    start_flight: str\n",
    "    return_flight: str\n",
    "    \n",
    "\n",
    "    flight_info: Dict\n",
    "    total_schedule: Dict \n",
    "    report_markdown: str"
   ]
  },
  {
   "cell_type": "markdown",
   "id": "76e70883",
   "metadata": {},
   "source": [
    "### Transportation Research Agent"
   ]
  },
  {
   "cell_type": "code",
   "execution_count": null,
   "id": "cefa5699",
   "metadata": {},
   "outputs": [],
   "source": [
    "@tool\n",
    "def get_flight_data(start_flight: str, return_flight: str) -> str:\n",
    "    \"\"\"\n",
    "    Retrieve flight details for given flight numbers.\n",
    "    \"\"\"\n",
    "    result = search_flight_details(start_flight, return_flight)\n",
    "    json.dumps(result)\n",
    "    return json.dumps(result)\n"
   ]
  },
  {
   "cell_type": "code",
   "execution_count": 200,
   "id": "3e629950",
   "metadata": {},
   "outputs": [],
   "source": [
    "#get_flight_data()"
   ]
  },
  {
   "cell_type": "code",
   "execution_count": 201,
   "id": "5c7e1e79",
   "metadata": {},
   "outputs": [],
   "source": [
    "flight_data_agent = create_react_agent(\n",
    "    llm,\n",
    "    tools=[get_flight_data],\n",
    "    prompt=get_system_prompt(\n",
    "        \"You are a travel planning assistant specializing in retrieving round-trip flight information. \"\n",
    "        \"Use the get_flight_data tool with provided flight numbers and return its output directly as a JSON string. \"\n",
    "        \"Do NOT include any explanatory text, comments, or non-JSON content. \"\n",
    "        \"Return an empty JSON object {} if no flight data is available or if the tool fails.\"\n",
    "    ),\n",
    ")"
   ]
  },
  {
   "cell_type": "markdown",
   "id": "415c7a8d",
   "metadata": {},
   "source": [
    "### Activities (Weather focused) Agent"
   ]
  },
  {
   "cell_type": "markdown",
   "id": "1ff43fe8",
   "metadata": {},
   "source": [
    "### Schedule Generate Agent"
   ]
  },
  {
   "cell_type": "markdown",
   "id": "aaa4b919",
   "metadata": {},
   "source": [
    "### Define Graph"
   ]
  },
  {
   "cell_type": "code",
   "execution_count": 202,
   "id": "6c8e2b43",
   "metadata": {},
   "outputs": [],
   "source": [
    "def flight_data_node(state: State) -> State:\n",
    "    # Extract flight numbers from last message (basic parsing, improve with regex/LLM)\n",
    "    last_message = state['messages'][-1].content if state['messages'] else \"\"\n",
    "    # Example: expect format like \"flights: start=ABC123, return=DEF456\"\n",
    "    import re\n",
    "    start_match = re.search(r'start=(\\w+)', last_message)\n",
    "    return_match = re.search(r'return=(\\w+)', last_message)\n",
    "    start_flight = start_match.group(1) if start_match else \"DEFAULT_START\"\n",
    "    return_flight = return_match.group(1) if return_match else \"DEFAULT_RETURN\"\n",
    "    \n",
    "    # Run agent\n",
    "    agent_input = {\"messages\": state['messages'] + [HumanMessage(content=f\"Get data for {start_flight} and {return_flight}\")]}\n",
    "    try:\n",
    "        agent_output = flight_data_agent.invoke(agent_input)\n",
    "    except Exception as e:\n",
    "        print(f\"Agent invocation failed: {e}\")\n",
    "        agent_output = {\"messages\": [SystemMessage(content=\"{}\")]}  # Fallback\n",
    "\n",
    "    # Parse safely\n",
    "    try:\n",
    "        final_content = agent_output['messages'][-1].content\n",
    "        print(f\"Agent output content: {final_content}\")  # Debug\n",
    "        if not final_content.strip():\n",
    "            print(\"Warning: Agent output is empty\")\n",
    "            flight_info = {}\n",
    "        else:\n",
    "            flight_info = json.loads(final_content)\n",
    "    except (KeyError, IndexError) as e:\n",
    "        print(f\"Error accessing agent output: {e}\")\n",
    "        flight_info = {}\n",
    "    except json.JSONDecodeError as e:\n",
    "        print(f\"JSON parsing failed: {e}\\nContent was: {final_content}\")\n",
    "        flight_info = {}\n",
    "    \n",
    "    # Update state with extracted dates (adjust keys based on search_flight_details)\n",
    "    state['flight_info'] = flight_info\n",
    "    state['trip_start_date'] = flight_info.get('start_flight', {}).get('departure_date', state.get('trip_start_date', ''))\n",
    "    state['trip_end_date'] = flight_info.get('return_flight', {}).get('arrival_date', state.get('trip_end_date', ''))\n",
    "    state['messages'].append(SystemMessage(content=f\"Flight info updated: {flight_info}\"))\n",
    "    return state"
   ]
  },
  {
   "cell_type": "code",
   "execution_count": 203,
   "id": "804ff3b8",
   "metadata": {},
   "outputs": [],
   "source": [
    "import uuid\n",
    "from datetime import datetime, timedelta\n",
    "from typing import Any, Dict\n",
    "\n",
    "\n",
    "def _invoke_json(system: str, user: str) -> Dict[str, Any]:\n",
    "    for attempt in range(3):  # Retry up to 3 times\n",
    "        messages = [SystemMessage(content=system), HumanMessage(content=user)]\n",
    "        ai = llm.invoke(messages)\n",
    "        content = ai.content\n",
    "        try:\n",
    "            parsed = json.loads(content)\n",
    "            required_keys = [\"segments\"]  # Add validation for your nodes\n",
    "            if all(key in parsed for key in required_keys):\n",
    "                return parsed\n",
    "        except json.JSONDecodeError:\n",
    "            start = content.find(\"{\")\n",
    "            end = content.rfind(\"}\")\n",
    "            if start != -1 and end != -1:\n",
    "                try:\n",
    "                    return json.loads(content[start:end + 1])\n",
    "                except:\n",
    "                    pass\n",
    "    raise ValueError(\"Failed to parse JSON from LLM after retries.\")\n",
    "\n",
    "\n",
    "def _date_range_days(start_date: str, end_date: str) -> int:\n",
    "    try:\n",
    "        start = datetime.fromisoformat(start_date).date()\n",
    "        end = datetime.fromisoformat(end_date).date()\n",
    "        return (end - start).days + 1\n",
    "    except ValueError:\n",
    "        raise ValueError(f\"Invalid date format: {start_date} or {end_date}. Must be ISO (YYYY-MM-DD).\")\n",
    "\n",
    "\n",
    "def day_to_split_node(state: State) -> State:\n",
    "    system = (\n",
    "        \"You split trips into logical city segments. Output STRICT JSON only with keys: \"\n",
    "        \"split_decision: {should_split: bool, rationale: string}, \"\n",
    "        \"segments: [{segment_id, location, start_date, end_date, days}]. \"\n",
    "        \"Ensure segments fully cover the trip with no gaps/overlaps and ISO dates.\"\n",
    "    )\n",
    "    user = json.dumps({\n",
    "        \"trip_start_date\": state.get(\"trip_start_date\") or state.get(\"start_date\"),\n",
    "        \"trip_end_date\": state.get(\"trip_end_date\") or state.get(\"return_date\"),\n",
    "        \"preferences\": state.get(\"traveler_preferences\", {}),\n",
    "        \"message\": state.get(\"messages\", [])[-1].content if state.get(\"messages\") else \"\",\n",
    "    })\n",
    "    result = _invoke_json(system, user)\n",
    "\n",
    "    segments = result.get(\"segments\", [])\n",
    "\n",
    "    # Add fallback if no segments or no split\n",
    "    if not segments or not result.get(\"split_decision\", {}).get(\"should_split\", True):\n",
    "        default_start = state.get(\"trip_start_date\") or state.get(\"start_date\") or \"2025-01-01\"\n",
    "        default_end = state.get(\"trip_end_date\") or state.get(\"return_date\") or \"2025-01-10\"\n",
    "        segments = [{\n",
    "            \"location\": \"Full Trip / Default Location\",\n",
    "            \"start_date\": default_start,\n",
    "            \"end_date\": default_end,\n",
    "        }]\n",
    "\n",
    "    normalized = []\n",
    "    for seg in segments:\n",
    "        seg_id = seg.get(\"segment_id\") or str(uuid.uuid4())\n",
    "        loc = seg.get(\"location\", \"Unknown\")\n",
    "        s = seg.get(\"start_date\", \"1970-01-01\")\n",
    "        e = seg.get(\"end_date\", \"1970-01-02\")\n",
    "        days = seg.get(\"days\") or _date_range_days(s, e)\n",
    "        normalized.append({\n",
    "            \"segment_id\": seg_id,\n",
    "            \"location\": loc,\n",
    "            \"start_date\": s,\n",
    "            \"end_date\": e,\n",
    "            \"days\": days,\n",
    "        })\n",
    "\n",
    "    state[\"split_decision\"] = result.get(\"split_decision\", {})\n",
    "    state[\"segments\"] = normalized\n",
    "    return state\n",
    "\n",
    "\n",
    "def activities_pool_node(state: State) -> State:\n",
    "    seg = state[\"current_segment\"]  # Direct dict\n",
    "\n",
    "    # Add check for safety\n",
    "    if not seg:\n",
    "        raise ValueError(\"No current_segment provided for activities_pool_node\")\n",
    "\n",
    "    system = (\n",
    "        \"Generate a diverse activity pool tailored to the city and days. \"\n",
    "        \"Return STRICT JSON: {segment_id, activities: [\"\n",
    "        \"{name, category, est_duration_min, opening_hours, area, cost_level, notes}]}]. \"\n",
    "        \"Include food, culture, light hiking options based on preferences.\"\n",
    "    )\n",
    "    user = json.dumps({\n",
    "        \"segment\": seg,\n",
    "        \"preferences\": state.get(\"traveler_preferences\", {}),\n",
    "        \"target_pool_size\": 12,\n",
    "    })\n",
    "    result = _invoke_json(system, user)\n",
    "    entry = {\n",
    "        \"segment_id\": seg[\"segment_id\"],\n",
    "        \"activities\": result.get(\"activities\", [])[:15],\n",
    "    }\n",
    "    return {\"segment_pools\": [entry]}\n",
    "\n",
    "\n",
    "def daily_schedule_node(state: State) -> State:\n",
    "    seg = state[\"current_segment\"]  # Direct dict\n",
    "\n",
    "    # Add check for safety\n",
    "    if not seg:\n",
    "        raise ValueError(\"No current_segment provided for daily_schedule_node\")\n",
    "\n",
    "    pools_by_id = {p[\"segment_id\"]: p for p in state.get(\"segment_pools\", [])}\n",
    "    pool = pools_by_id.get(seg[\"segment_id\"], {\"activities\": []})\n",
    "\n",
    "    system = (\n",
    "        \"Create daily schedules from the candidate pool. Respect transit time, \"\n",
    "        \"opening hours, and breaks. Each day ~6-9 hours of activities. \"\n",
    "        \"Return STRICT JSON: {segment_id, schedule: [\"\n",
    "        \"{date, items: [{start_min, end_min, type, name, notes}]}]}. \"\n",
    "        \"Times are minutes from 00:00. Include meals and rest.\"\n",
    "    )\n",
    "    user = json.dumps({\n",
    "        \"segment\": seg,\n",
    "        \"activities_pool\": pool,\n",
    "        \"assumptions\": {\n",
    "            \"default_open\": \"09:00-20:00\",\n",
    "            \"avg_transit_min\": 20,\n",
    "            \"lunch_window\": \"12:00-13:00\",\n",
    "            \"dinner_window\": \"18:00-19:00\",\n",
    "        },\n",
    "    })\n",
    "    result = _invoke_json(system, user)\n",
    "    entry = {\n",
    "        \"segment_id\": seg[\"segment_id\"],\n",
    "        \"schedule\": result.get(\"schedule\", []),\n",
    "    }\n",
    "    return {\"segment_schedules\": [entry]}\n",
    "\n",
    "\n",
    "\n",
    "def total_schedule_node(state: State) -> State:\n",
    "    schedules_by_id = {s[\"segment_id\"]: s[\"schedule\"] for s in state.get(\"segment_schedules\", [])}\n",
    "    ordered_segments = sorted(state.get(\"segments\", []), key=lambda s: s[\"start_date\"]) \n",
    "\n",
    "    days_out = []\n",
    "    transitions = []\n",
    "    for i, seg in enumerate(ordered_segments):\n",
    "        for day in schedules_by_id.get(seg[\"segment_id\"], []):\n",
    "            days_out.append({\n",
    "                \"segment_id\": seg[\"segment_id\"],\n",
    "                \"location\": seg[\"location\"],\n",
    "                \"date\": day.get(\"date\"),\n",
    "                \"items\": day.get(\"items\", []),\n",
    "            })\n",
    "        if i > 0:\n",
    "            prev = ordered_segments[i - 1]\n",
    "            transitions.append({\n",
    "                \"from\": prev[\"location\"],\n",
    "                \"to\": seg[\"location\"],\n",
    "                \"date\": seg[\"start_date\"],\n",
    "                \"notes\": \"Inter-city transfer between segments\",\n",
    "            })\n",
    "\n",
    "    state[\"total_schedule\"] = {\"days\": days_out, \"transitions\": transitions}\n",
    "    return state\n"
   ]
  },
  {
   "cell_type": "code",
   "execution_count": 204,
   "id": "91cb06e6",
   "metadata": {},
   "outputs": [],
   "source": [
    "def report_node(state: State) -> State:\n",
    "    total = state.get(\"total_schedule\", {\"days\": [], \"transitions\": []})\n",
    "    lines = []\n",
    "    lines.append(f\"# Trip Plan: {state['trip_start_date']} to {state['trip_end_date']}\")\n",
    "    lines.append(\"\")\n",
    "    # Overview\n",
    "    lines.append(\"## Overview\")\n",
    "    lines.append(\"- Segments:\")\n",
    "    for seg in sorted(state.get(\"segments\", []), key=lambda s: s[\"start_date\"]):\n",
    "        lines.append(f\"  - {seg['location']}: {seg['start_date']} → {seg['end_date']} ({seg['days']} days)\")\n",
    "    if total.get(\"transitions\"):\n",
    "        lines.append(\"- Transitions:\")\n",
    "        for t in total[\"transitions\"]:\n",
    "            lines.append(f\"  - {t['date']}: {t['from']} → {t['to']} — {t['notes']}\")\n",
    "    lines.append(\"\")\n",
    "\n",
    "    # Daily tables\n",
    "    lines.append(\"## Daily Schedule\")\n",
    "    for day in sorted(total.get(\"days\", []), key=lambda d: d.get(\"date\", \"\")):\n",
    "        lines.append(f\"### {day.get('date', '')} — {day.get('location', '')}\")\n",
    "        lines.append(\"| Time | Type | Name | Notes |\")\n",
    "        lines.append(\"|------|------|------|-------|\")\n",
    "        for item in day.get(\"items\", []):\n",
    "            start = item.get(\"start_min\", 0)\n",
    "            end = item.get(\"end_min\", 0)\n",
    "            def _hm(m):\n",
    "                h = int(m // 60)\n",
    "                mm = int(m % 60)\n",
    "                return f\"{h:02d}:{mm:02d}\"\n",
    "            time_str = f\"{_hm(start)}–{_hm(end)}\" if end else _hm(start)\n",
    "            lines.append(f\"| {time_str} | {item.get('type','activity')} | {item.get('name','')} | {item.get('notes','')} |\")\n",
    "        lines.append(\"\")\n",
    "\n",
    "    state[\"report_markdown\"] = \"\\n\".join(lines)\n",
    "    return state"
   ]
  },
  {
   "cell_type": "code",
   "execution_count": 205,
   "id": "b7fa4d38",
   "metadata": {},
   "outputs": [],
   "source": [
    "def split_router(state: State) -> List[Send]:\n",
    "    if state.get(\"split_decision\", {}).get(\"should_split\", False) and state.get(\"segments\"):\n",
    "        return [Send(\"activities_pool_agent\", {\"current_segment\": seg}) for seg in state[\"segments\"]]  # seg is dict\n",
    "    else:\n",
    "        return []  # No fanout, but with fallback in day_to_split_node, this should rarely be empty"
   ]
  },
  {
   "cell_type": "code",
   "execution_count": 206,
   "id": "51aed199",
   "metadata": {},
   "outputs": [],
   "source": [
    "def join_router(state: State):\n",
    "    # Proceed when we have a schedule for every segment\n",
    "    num_segs = len(state.get(\"segments\", []))\n",
    "    have = len({s.get(\"segment_id\") for s in state.get(\"segment_schedules\", [])})\n",
    "    if num_segs > 0 and have >= num_segs:\n",
    "        return \"total_schedule_agent\"\n",
    "    return \"__end__\"\n",
    "\n"
   ]
  },
  {
   "cell_type": "code",
   "execution_count": 207,
   "id": "9802e494",
   "metadata": {},
   "outputs": [],
   "source": [
    "workflow = StateGraph(State)\n",
    "\n",
    "\n",
    "# Core nodes\n",
    "workflow.add_node(\"flight_data_agent\", flight_data_node)\n",
    "workflow.add_node(\"day_to_split_agent\", day_to_split_node)\n",
    "workflow.add_node(\"activities_pool_agent\", activities_pool_node)\n",
    "workflow.add_node(\"daily_schedule_agent\", daily_schedule_node)\n",
    "workflow.add_node(\"total_schedule_agent\", total_schedule_node)\n",
    "workflow.add_node(\"report_agent\", report_node)\n",
    "\n",
    "# Fan-out per segment and gather back\n",
    "workflow.add_edge(\"flight_data_agent\", \"day_to_split_agent\")\n",
    "workflow.add_conditional_edges(\"day_to_split_agent\", split_router)\n",
    "workflow.add_edge(\"activities_pool_agent\", \"daily_schedule_agent\")\n",
    "workflow.add_conditional_edges(\"daily_schedule_agent\", join_router)\n",
    "workflow.add_edge(\"total_schedule_agent\", \"report_agent\")\n",
    "workflow.add_edge(\"report_agent\", END)\n",
    "\n",
    "# Entry point\n",
    "workflow.set_entry_point(\"flight_data_agent\")\n",
    "graph = workflow.compile()"
   ]
  },
  {
   "cell_type": "code",
   "execution_count": 208,
   "id": "98c9cb6f",
   "metadata": {},
   "outputs": [
    {
     "name": "stdout",
     "output_type": "stream",
     "text": [
      "    +-----------+      \n",
      "    | __start__ |      \n",
      "    +-----------+      \n",
      "           *           \n",
      "           *           \n",
      "           *           \n",
      "+-------------------+  \n",
      "| flight_data_agent |  \n",
      "+-------------------+  \n",
      "           *           \n",
      "           *           \n",
      "           *           \n",
      "+--------------------+ \n",
      "| day_to_split_agent | \n",
      "+--------------------+ \n",
      "           *           \n",
      "           *           \n",
      "           *           \n",
      "      +---------+      \n",
      "      | __end__ |      \n",
      "      +---------+      \n"
     ]
    }
   ],
   "source": [
    "# Try ASCII\n",
    "try:\n",
    "    graph.get_graph().print_ascii()\n",
    "except ImportError as e:\n",
    "    print(\"ASCII drawing requires grandalf. Install with: pip install grandalf\\n\", e)\n",
    "\n",
    "# Try PNG\n",
    "# try:\n",
    "#     output_path = \"graph.png\"\n",
    "#     graph.get_graph().draw_png(output_path)\n",
    "#     print(f\"PNG graph written to {output_path}\")\n",
    "# except ImportError as e:\n",
    "#     print(\"PNG drawing requires pygraphviz. Install with: pip install pygraphviz\\n\", e)"
   ]
  },
  {
   "cell_type": "markdown",
   "id": "f0d6968c",
   "metadata": {},
   "source": [
    "### Run Graph"
   ]
  },
  {
   "cell_type": "code",
   "execution_count": 209,
   "id": "0499b112",
   "metadata": {},
   "outputs": [],
   "source": [
    "input_message = HumanMessage(\n",
    "    content=(\n",
    "        \"Plan a 10-day Japan trip arriving Kansai (Osaka). Focus on food, culture, \"\n",
    "        \"light hiking, and efficient transit.\"\n",
    "    )\n",
    ")"
   ]
  },
  {
   "cell_type": "code",
   "execution_count": null,
   "id": "ee4d7804",
   "metadata": {},
   "outputs": [],
   "source": [
    "TRIP_START = \"2025-03-10\"\n",
    "TRIP_END = \"2025-03-24\"\n",
    "PREFERENCES = {\n",
    "    \"pace\": \"moderate\",\n",
    "    \"interests\": [\"food\", \"culture\", \"light hiking\"],\n",
    "    \"budget\": \"mid\",\n",
    "}\n",
    "\n",
    "#EMAIL_ADDRESS = \"terence2379@gmail.com\""
   ]
  },
  {
   "cell_type": "code",
   "execution_count": 211,
   "id": "3e23c983",
   "metadata": {},
   "outputs": [
    {
     "name": "stdout",
     "output_type": "stream",
     "text": [
      "Agent output content: I understand you'd like flight data for your Japan trip planning, but I'm currently unable to retrieve the specific flight information you need. The flight data retrieval tool requires specific flight numbers to provide departure and arrival details.\n",
      "\n",
      "For your 10-day Japan itinerary focusing on food, culture, light hiking, and efficient transit through Kansai (Osaka), you might want to:\n",
      "\n",
      "1. Check your airline's website or booking confirmation for the specific flight numbers\n",
      "2. Contact your travel agent or airline directly for the flight details\n",
      "3. Use an online flight tracking service with your booking reference\n",
      "\n",
      "Once you have the specific flight numbers, I'd be happy to help retrieve the flight data for your trip planning. In the meantime, I can certainly help with other aspects of your Japan itinerary planning if you'd like!\n",
      "JSON parsing failed: Expecting value: line 1 column 1 (char 0)\n",
      "Content was: I understand you'd like flight data for your Japan trip planning, but I'm currently unable to retrieve the specific flight information you need. The flight data retrieval tool requires specific flight numbers to provide departure and arrival details.\n",
      "\n",
      "For your 10-day Japan itinerary focusing on food, culture, light hiking, and efficient transit through Kansai (Osaka), you might want to:\n",
      "\n",
      "1. Check your airline's website or booking confirmation for the specific flight numbers\n",
      "2. Contact your travel agent or airline directly for the flight details\n",
      "3. Use an online flight tracking service with your booking reference\n",
      "\n",
      "Once you have the specific flight numbers, I'd be happy to help retrieve the flight data for your trip planning. In the meantime, I can certainly help with other aspects of your Japan itinerary planning if you'd like!\n"
     ]
    },
    {
     "ename": "KeyError",
     "evalue": "'current_segment'",
     "output_type": "error",
     "traceback": [
      "\u001b[31m---------------------------------------------------------------------------\u001b[39m",
      "\u001b[31mKeyError\u001b[39m                                  Traceback (most recent call last)",
      "\u001b[36mCell\u001b[39m\u001b[36m \u001b[39m\u001b[32mIn[211]\u001b[39m\u001b[32m, line 12\u001b[39m\n\u001b[32m      1\u001b[39m events = graph.stream(\n\u001b[32m      2\u001b[39m     \u001b[38;5;28minput\u001b[39m={\n\u001b[32m      3\u001b[39m         \u001b[33m\"\u001b[39m\u001b[33mmessages\u001b[39m\u001b[33m\"\u001b[39m: [input_message],\n\u001b[32m   (...)\u001b[39m\u001b[32m      9\u001b[39m     stream_mode=\u001b[33m\"\u001b[39m\u001b[33mvalues\u001b[39m\u001b[33m\"\u001b[39m,\n\u001b[32m     10\u001b[39m )\n\u001b[32m     11\u001b[39m final_report = \u001b[38;5;28;01mNone\u001b[39;00m\n\u001b[32m---> \u001b[39m\u001b[32m12\u001b[39m \u001b[38;5;28;43;01mfor\u001b[39;49;00m\u001b[43m \u001b[49m\u001b[43mevent\u001b[49m\u001b[43m \u001b[49m\u001b[38;5;129;43;01min\u001b[39;49;00m\u001b[43m \u001b[49m\u001b[43mevents\u001b[49m\u001b[43m:\u001b[49m\n\u001b[32m     13\u001b[39m \u001b[43m    \u001b[49m\u001b[38;5;28;43;01mif\u001b[39;49;00m\u001b[43m \u001b[49m\u001b[33;43m\"\u001b[39;49m\u001b[33;43mreport_markdown\u001b[39;49m\u001b[33;43m\"\u001b[39;49m\u001b[43m \u001b[49m\u001b[38;5;129;43;01min\u001b[39;49;00m\u001b[43m \u001b[49m\u001b[43mevent\u001b[49m\u001b[43m:\u001b[49m\n\u001b[32m     14\u001b[39m \u001b[43m        \u001b[49m\u001b[43mfinal_report\u001b[49m\u001b[43m \u001b[49m\u001b[43m=\u001b[49m\u001b[43m \u001b[49m\u001b[43mevent\u001b[49m\u001b[43m[\u001b[49m\u001b[33;43m\"\u001b[39;49m\u001b[33;43mreport_markdown\u001b[39;49m\u001b[33;43m\"\u001b[39;49m\u001b[43m]\u001b[49m\n",
      "\u001b[36mFile \u001b[39m\u001b[32mc:\\Users\\terence\\workspace\\travel-schedule-planner-agent-langgraph\\.venv\\Lib\\site-packages\\langgraph\\pregel\\main.py:2657\u001b[39m, in \u001b[36mPregel.stream\u001b[39m\u001b[34m(self, input, config, context, stream_mode, print_mode, output_keys, interrupt_before, interrupt_after, durability, subgraphs, debug, **kwargs)\u001b[39m\n\u001b[32m   2655\u001b[39m \u001b[38;5;28;01mfor\u001b[39;00m task \u001b[38;5;129;01min\u001b[39;00m loop.match_cached_writes():\n\u001b[32m   2656\u001b[39m     loop.output_writes(task.id, task.writes, cached=\u001b[38;5;28;01mTrue\u001b[39;00m)\n\u001b[32m-> \u001b[39m\u001b[32m2657\u001b[39m \u001b[43m\u001b[49m\u001b[38;5;28;43;01mfor\u001b[39;49;00m\u001b[43m \u001b[49m\u001b[43m_\u001b[49m\u001b[43m \u001b[49m\u001b[38;5;129;43;01min\u001b[39;49;00m\u001b[43m \u001b[49m\u001b[43mrunner\u001b[49m\u001b[43m.\u001b[49m\u001b[43mtick\u001b[49m\u001b[43m(\u001b[49m\n\u001b[32m   2658\u001b[39m \u001b[43m    \u001b[49m\u001b[43m[\u001b[49m\u001b[43mt\u001b[49m\u001b[43m \u001b[49m\u001b[38;5;28;43;01mfor\u001b[39;49;00m\u001b[43m \u001b[49m\u001b[43mt\u001b[49m\u001b[43m \u001b[49m\u001b[38;5;129;43;01min\u001b[39;49;00m\u001b[43m \u001b[49m\u001b[43mloop\u001b[49m\u001b[43m.\u001b[49m\u001b[43mtasks\u001b[49m\u001b[43m.\u001b[49m\u001b[43mvalues\u001b[49m\u001b[43m(\u001b[49m\u001b[43m)\u001b[49m\u001b[43m \u001b[49m\u001b[38;5;28;43;01mif\u001b[39;49;00m\u001b[43m \u001b[49m\u001b[38;5;129;43;01mnot\u001b[39;49;00m\u001b[43m \u001b[49m\u001b[43mt\u001b[49m\u001b[43m.\u001b[49m\u001b[43mwrites\u001b[49m\u001b[43m]\u001b[49m\u001b[43m,\u001b[49m\n\u001b[32m   2659\u001b[39m \u001b[43m    \u001b[49m\u001b[43mtimeout\u001b[49m\u001b[43m=\u001b[49m\u001b[38;5;28;43mself\u001b[39;49m\u001b[43m.\u001b[49m\u001b[43mstep_timeout\u001b[49m\u001b[43m,\u001b[49m\n\u001b[32m   2660\u001b[39m \u001b[43m    \u001b[49m\u001b[43mget_waiter\u001b[49m\u001b[43m=\u001b[49m\u001b[43mget_waiter\u001b[49m\u001b[43m,\u001b[49m\n\u001b[32m   2661\u001b[39m \u001b[43m    \u001b[49m\u001b[43mschedule_task\u001b[49m\u001b[43m=\u001b[49m\u001b[43mloop\u001b[49m\u001b[43m.\u001b[49m\u001b[43maccept_push\u001b[49m\u001b[43m,\u001b[49m\n\u001b[32m   2662\u001b[39m \u001b[43m\u001b[49m\u001b[43m)\u001b[49m\u001b[43m:\u001b[49m\n\u001b[32m   2663\u001b[39m \u001b[43m    \u001b[49m\u001b[38;5;66;43;03m# emit output\u001b[39;49;00m\n\u001b[32m   2664\u001b[39m \u001b[43m    \u001b[49m\u001b[38;5;28;43;01myield from\u001b[39;49;00m\u001b[43m \u001b[49m\u001b[43m_output\u001b[49m\u001b[43m(\u001b[49m\n\u001b[32m   2665\u001b[39m \u001b[43m        \u001b[49m\u001b[43mstream_mode\u001b[49m\u001b[43m,\u001b[49m\u001b[43m \u001b[49m\u001b[43mprint_mode\u001b[49m\u001b[43m,\u001b[49m\u001b[43m \u001b[49m\u001b[43msubgraphs\u001b[49m\u001b[43m,\u001b[49m\u001b[43m \u001b[49m\u001b[43mstream\u001b[49m\u001b[43m.\u001b[49m\u001b[43mget\u001b[49m\u001b[43m,\u001b[49m\u001b[43m \u001b[49m\u001b[43mqueue\u001b[49m\u001b[43m.\u001b[49m\u001b[43mEmpty\u001b[49m\n\u001b[32m   2666\u001b[39m \u001b[43m    \u001b[49m\u001b[43m)\u001b[49m\n\u001b[32m   2667\u001b[39m loop.after_tick()\n",
      "\u001b[36mFile \u001b[39m\u001b[32mc:\\Users\\terence\\workspace\\travel-schedule-planner-agent-langgraph\\.venv\\Lib\\site-packages\\langgraph\\pregel\\_runner.py:162\u001b[39m, in \u001b[36mPregelRunner.tick\u001b[39m\u001b[34m(self, tasks, reraise, timeout, retry_policy, get_waiter, schedule_task)\u001b[39m\n\u001b[32m    160\u001b[39m t = tasks[\u001b[32m0\u001b[39m]\n\u001b[32m    161\u001b[39m \u001b[38;5;28;01mtry\u001b[39;00m:\n\u001b[32m--> \u001b[39m\u001b[32m162\u001b[39m     \u001b[43mrun_with_retry\u001b[49m\u001b[43m(\u001b[49m\n\u001b[32m    163\u001b[39m \u001b[43m        \u001b[49m\u001b[43mt\u001b[49m\u001b[43m,\u001b[49m\n\u001b[32m    164\u001b[39m \u001b[43m        \u001b[49m\u001b[43mretry_policy\u001b[49m\u001b[43m,\u001b[49m\n\u001b[32m    165\u001b[39m \u001b[43m        \u001b[49m\u001b[43mconfigurable\u001b[49m\u001b[43m=\u001b[49m\u001b[43m{\u001b[49m\n\u001b[32m    166\u001b[39m \u001b[43m            \u001b[49m\u001b[43mCONFIG_KEY_CALL\u001b[49m\u001b[43m:\u001b[49m\u001b[43m \u001b[49m\u001b[43mpartial\u001b[49m\u001b[43m(\u001b[49m\n\u001b[32m    167\u001b[39m \u001b[43m                \u001b[49m\u001b[43m_call\u001b[49m\u001b[43m,\u001b[49m\n\u001b[32m    168\u001b[39m \u001b[43m                \u001b[49m\u001b[43mweakref\u001b[49m\u001b[43m.\u001b[49m\u001b[43mref\u001b[49m\u001b[43m(\u001b[49m\u001b[43mt\u001b[49m\u001b[43m)\u001b[49m\u001b[43m,\u001b[49m\n\u001b[32m    169\u001b[39m \u001b[43m                \u001b[49m\u001b[43mretry_policy\u001b[49m\u001b[43m=\u001b[49m\u001b[43mretry_policy\u001b[49m\u001b[43m,\u001b[49m\n\u001b[32m    170\u001b[39m \u001b[43m                \u001b[49m\u001b[43mfutures\u001b[49m\u001b[43m=\u001b[49m\u001b[43mweakref\u001b[49m\u001b[43m.\u001b[49m\u001b[43mref\u001b[49m\u001b[43m(\u001b[49m\u001b[43mfutures\u001b[49m\u001b[43m)\u001b[49m\u001b[43m,\u001b[49m\n\u001b[32m    171\u001b[39m \u001b[43m                \u001b[49m\u001b[43mschedule_task\u001b[49m\u001b[43m=\u001b[49m\u001b[43mschedule_task\u001b[49m\u001b[43m,\u001b[49m\n\u001b[32m    172\u001b[39m \u001b[43m                \u001b[49m\u001b[43msubmit\u001b[49m\u001b[43m=\u001b[49m\u001b[38;5;28;43mself\u001b[39;49m\u001b[43m.\u001b[49m\u001b[43msubmit\u001b[49m\u001b[43m,\u001b[49m\n\u001b[32m    173\u001b[39m \u001b[43m            \u001b[49m\u001b[43m)\u001b[49m\u001b[43m,\u001b[49m\n\u001b[32m    174\u001b[39m \u001b[43m        \u001b[49m\u001b[43m}\u001b[49m\u001b[43m,\u001b[49m\n\u001b[32m    175\u001b[39m \u001b[43m    \u001b[49m\u001b[43m)\u001b[49m\n\u001b[32m    176\u001b[39m     \u001b[38;5;28mself\u001b[39m.commit(t, \u001b[38;5;28;01mNone\u001b[39;00m)\n\u001b[32m    177\u001b[39m \u001b[38;5;28;01mexcept\u001b[39;00m \u001b[38;5;167;01mException\u001b[39;00m \u001b[38;5;28;01mas\u001b[39;00m exc:\n",
      "\u001b[36mFile \u001b[39m\u001b[32mc:\\Users\\terence\\workspace\\travel-schedule-planner-agent-langgraph\\.venv\\Lib\\site-packages\\langgraph\\pregel\\_retry.py:42\u001b[39m, in \u001b[36mrun_with_retry\u001b[39m\u001b[34m(task, retry_policy, configurable)\u001b[39m\n\u001b[32m     40\u001b[39m     task.writes.clear()\n\u001b[32m     41\u001b[39m     \u001b[38;5;66;03m# run the task\u001b[39;00m\n\u001b[32m---> \u001b[39m\u001b[32m42\u001b[39m     \u001b[38;5;28;01mreturn\u001b[39;00m \u001b[43mtask\u001b[49m\u001b[43m.\u001b[49m\u001b[43mproc\u001b[49m\u001b[43m.\u001b[49m\u001b[43minvoke\u001b[49m\u001b[43m(\u001b[49m\u001b[43mtask\u001b[49m\u001b[43m.\u001b[49m\u001b[43minput\u001b[49m\u001b[43m,\u001b[49m\u001b[43m \u001b[49m\u001b[43mconfig\u001b[49m\u001b[43m)\u001b[49m\n\u001b[32m     43\u001b[39m \u001b[38;5;28;01mexcept\u001b[39;00m ParentCommand \u001b[38;5;28;01mas\u001b[39;00m exc:\n\u001b[32m     44\u001b[39m     ns: \u001b[38;5;28mstr\u001b[39m = config[CONF][CONFIG_KEY_CHECKPOINT_NS]\n",
      "\u001b[36mFile \u001b[39m\u001b[32mc:\\Users\\terence\\workspace\\travel-schedule-planner-agent-langgraph\\.venv\\Lib\\site-packages\\langgraph\\_internal\\_runnable.py:657\u001b[39m, in \u001b[36mRunnableSeq.invoke\u001b[39m\u001b[34m(self, input, config, **kwargs)\u001b[39m\n\u001b[32m    655\u001b[39m     \u001b[38;5;66;03m# run in context\u001b[39;00m\n\u001b[32m    656\u001b[39m     \u001b[38;5;28;01mwith\u001b[39;00m set_config_context(config, run) \u001b[38;5;28;01mas\u001b[39;00m context:\n\u001b[32m--> \u001b[39m\u001b[32m657\u001b[39m         \u001b[38;5;28minput\u001b[39m = \u001b[43mcontext\u001b[49m\u001b[43m.\u001b[49m\u001b[43mrun\u001b[49m\u001b[43m(\u001b[49m\u001b[43mstep\u001b[49m\u001b[43m.\u001b[49m\u001b[43minvoke\u001b[49m\u001b[43m,\u001b[49m\u001b[43m \u001b[49m\u001b[38;5;28;43minput\u001b[39;49m\u001b[43m,\u001b[49m\u001b[43m \u001b[49m\u001b[43mconfig\u001b[49m\u001b[43m,\u001b[49m\u001b[43m \u001b[49m\u001b[43m*\u001b[49m\u001b[43m*\u001b[49m\u001b[43mkwargs\u001b[49m\u001b[43m)\u001b[49m\n\u001b[32m    658\u001b[39m \u001b[38;5;28;01melse\u001b[39;00m:\n\u001b[32m    659\u001b[39m     \u001b[38;5;28minput\u001b[39m = step.invoke(\u001b[38;5;28minput\u001b[39m, config)\n",
      "\u001b[36mFile \u001b[39m\u001b[32mc:\\Users\\terence\\workspace\\travel-schedule-planner-agent-langgraph\\.venv\\Lib\\site-packages\\langgraph\\_internal\\_runnable.py:401\u001b[39m, in \u001b[36mRunnableCallable.invoke\u001b[39m\u001b[34m(self, input, config, **kwargs)\u001b[39m\n\u001b[32m    399\u001b[39m         run_manager.on_chain_end(ret)\n\u001b[32m    400\u001b[39m \u001b[38;5;28;01melse\u001b[39;00m:\n\u001b[32m--> \u001b[39m\u001b[32m401\u001b[39m     ret = \u001b[38;5;28;43mself\u001b[39;49m\u001b[43m.\u001b[49m\u001b[43mfunc\u001b[49m\u001b[43m(\u001b[49m\u001b[43m*\u001b[49m\u001b[43margs\u001b[49m\u001b[43m,\u001b[49m\u001b[43m \u001b[49m\u001b[43m*\u001b[49m\u001b[43m*\u001b[49m\u001b[43mkwargs\u001b[49m\u001b[43m)\u001b[49m\n\u001b[32m    402\u001b[39m \u001b[38;5;28;01mif\u001b[39;00m \u001b[38;5;28mself\u001b[39m.recurse \u001b[38;5;129;01mand\u001b[39;00m \u001b[38;5;28misinstance\u001b[39m(ret, Runnable):\n\u001b[32m    403\u001b[39m     \u001b[38;5;28;01mreturn\u001b[39;00m ret.invoke(\u001b[38;5;28minput\u001b[39m, config)\n",
      "\u001b[36mCell\u001b[39m\u001b[36m \u001b[39m\u001b[32mIn[203]\u001b[39m\u001b[32m, line 110\u001b[39m, in \u001b[36mdaily_schedule_node\u001b[39m\u001b[34m(state)\u001b[39m\n\u001b[32m    109\u001b[39m \u001b[38;5;28;01mdef\u001b[39;00m\u001b[38;5;250m \u001b[39m\u001b[34mdaily_schedule_node\u001b[39m(state: State) -> State:\n\u001b[32m--> \u001b[39m\u001b[32m110\u001b[39m     seg = \u001b[43mstate\u001b[49m\u001b[43m[\u001b[49m\u001b[33;43m\"\u001b[39;49m\u001b[33;43mcurrent_segment\u001b[39;49m\u001b[33;43m\"\u001b[39;49m\u001b[43m]\u001b[49m  \u001b[38;5;66;03m# Direct dict\u001b[39;00m\n\u001b[32m    112\u001b[39m     \u001b[38;5;66;03m# Add check for safety\u001b[39;00m\n\u001b[32m    113\u001b[39m     \u001b[38;5;28;01mif\u001b[39;00m \u001b[38;5;129;01mnot\u001b[39;00m seg:\n",
      "\u001b[31mKeyError\u001b[39m: 'current_segment'",
      "During task with name 'daily_schedule_agent' and id 'b92c6d72-af8e-b1b6-04b4-382e6898eb3c'"
     ]
    }
   ],
   "source": [
    "events = graph.stream(\n",
    "    input={\n",
    "        \"messages\": [input_message],\n",
    "        \"trip_start_date\": TRIP_START,\n",
    "        \"trip_end_date\": TRIP_END,\n",
    "        \"traveler_preferences\": PREFERENCES,\n",
    "    },\n",
    "    config={\"recursion_limit\": 50},  # Increased from 30\n",
    "    stream_mode=\"values\",\n",
    ")\n",
    "final_report = None\n",
    "for event in events:\n",
    "    if \"report_markdown\" in event:\n",
    "        final_report = event[\"report_markdown\"]\n",
    "\n",
    "if final_report:\n",
    "    display(Markdown(final_report))\n",
    "else:\n",
    "    print(\"No final report produced. Check inputs or graph configuration.\")"
   ]
  },
  {
   "cell_type": "markdown",
   "id": "3196ee4b",
   "metadata": {},
   "source": [
    "### Send Email\n"
   ]
  },
  {
   "cell_type": "code",
   "execution_count": null,
   "id": "e9b17d1e",
   "metadata": {},
   "outputs": [],
   "source": [
    "#body = message.content\n",
    "\n",
    "#title = llm.invoke(\n",
    "#    f\"Extract the subject from this report content as the email subject and return the title directly without any introductory text: {body}\")\n",
    "\n",
    "#subject = title.content\n",
    "\n",
    "#result = send_report_via_email(subject, body, EMAIL_ADDRESS)\n",
    "#print(result)"
   ]
  }
 ],
 "metadata": {
  "kernelspec": {
   "display_name": ".venv",
   "language": "python",
   "name": "python3"
  },
  "language_info": {
   "codemirror_mode": {
    "name": "ipython",
    "version": 3
   },
   "file_extension": ".py",
   "mimetype": "text/x-python",
   "name": "python",
   "nbconvert_exporter": "python",
   "pygments_lexer": "ipython3",
   "version": "3.13.7"
  }
 },
 "nbformat": 4,
 "nbformat_minor": 5
}
